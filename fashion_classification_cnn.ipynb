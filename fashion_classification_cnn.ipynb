{
 "cells": [
  {
   "cell_type": "code",
   "execution_count": 17,
   "metadata": {},
   "outputs": [],
   "source": [
    "import keras\n",
    "import numpy as np\n",
    "import pandas as pd\n",
    "import matplotlib.pyplot as plt\n",
    "from keras.models import Sequential\n",
    "from keras.layers import Dropout,Dense,Flatten\n",
    "from keras.layers.convolutional import Conv2D,MaxPooling2D\n",
    "from keras.utils import to_categorical\n",
    "from sklearn.model_selection import train_test_split\n",
    "from keras.wrappers.scikit_learn import KerasClassifier\n",
    "from sklearn.model_selection import cross_val_score\n",
    "from sklearn.model_selection import StratifiedKFold\n",
    "from keras.preprocessing.image import ImageDataGenerator\n",
    "from sklearn.model_selection import GridSearchCV\n",
    "from sklearn.model_selection import RandomizedSearchCV\n",
    "from keras.layers.normalization import BatchNormalization\n",
    "from sklearn.model_selection import train_test_split\n",
    "from keras.callbacks import EarlyStopping, ModelCheckpoint\n",
    "from keras.models import load_model\n",
    "from sklearn.metrics import classification_report\n",
    "from sklearn.metrics import confusion_matrix\n",
    "from keras import optimizers\n",
    "\n"
   ]
  },
  {
   "cell_type": "code",
   "execution_count": 18,
   "metadata": {
    "collapsed": true
   },
   "outputs": [],
   "source": [
    "# fix random seed for reproducibility\n",
    "seed = 7\n",
    "np.random.seed(seed)"
   ]
  },
  {
   "cell_type": "code",
   "execution_count": 19,
   "metadata": {
    "collapsed": true
   },
   "outputs": [],
   "source": [
    "#load the data\n",
    "\n",
    "training_set = pd.read_csv('fashion-mnist_train.csv')\n",
    "testing_set = pd.read_csv('fashion-mnist_test.csv')\n",
    "\n"
   ]
  },
  {
   "cell_type": "code",
   "execution_count": 20,
   "metadata": {
    "collapsed": true
   },
   "outputs": [],
   "source": [
    "#Preprocess the data \n",
    "# Reshape the given csv into the original images\n",
    "\n",
    "\n",
    "# Creation of validation dataset to improve model performance evalutation\n",
    "X = np.array(training_set.iloc[:,1:])\n",
    "X = X.reshape(X.shape[0],28,28,1).astype('float32')\n",
    "X = X/255\n",
    "y = to_categorical(np.array(training_set.iloc[:,0])) \n",
    "X_train, X_val, y_train, y_val = train_test_split(X, y, test_size=0.33, random_state=seed)\n",
    "\n",
    "X_test = np.array(testing_set.iloc[:,1:])\n",
    "X_test = X_test.reshape(X_test.shape[0],28,28,1).astype('float32')\n",
    "X_test = X_test/255\n",
    "y_test = to_categorical(np.array(testing_set.iloc[:,0]))\n"
   ]
  },
  {
   "cell_type": "code",
   "execution_count": 21,
   "metadata": {},
   "outputs": [
    {
     "data": {
      "image/png": "[encoded data removed]",
      "text/plain": [
       "<matplotlib.figure.Figure at 0x26b0540d4a8>"
      ]
     },
     "metadata": {},
     "output_type": "display_data"
    }
   ],
   "source": [
    "# Check if the reshaping worked by displaying the 9 first images \n",
    "\n",
    "for i in range(0,9):\n",
    "    plt.subplot(330 + 1 + i)\n",
    "    plt.imshow(np.squeeze(X_train[i]), cmap='gray')\n",
    "plt.show()"
   ]
  },
  {
   "cell_type": "code",
   "execution_count": 22,
   "metadata": {
    "collapsed": true
   },
   "outputs": [],
   "source": [
    "# Building a cnn model\n",
    "shape = (28,28,1)\n",
    "number_of_classes = y_test.shape[1]\n",
    "def create_model():\n",
    "    model = Sequential()\n",
    "    model.add(Conv2D(32,(3,3),activation ='relu',input_shape = shape ))\n",
    "    model.add(Conv2D(32,(3,3),activation ='relu',input_shape = shape ))\n",
    "    model.add(BatchNormalization())\n",
    "    model.add(MaxPooling2D(pool_size=(2, 2)))\n",
    "    model.add(Dropout(0.2))\n",
    "    model.add(Conv2D(64,(3,3),activation ='relu' ))\n",
    "    model.add(Conv2D(64,(3,3),activation ='relu' ))\n",
    "    model.add(BatchNormalization())\n",
    "    model.add(MaxPooling2D(pool_size=(2, 2)))\n",
    "    model.add(Dropout(0.2))\n",
    "    model.add(Flatten())\n",
    "    model.add(Dense(128, activation='relu'))\n",
    "    model.add(BatchNormalization())\n",
    "    model.add(Dense(number_of_classes, activation='softmax'))\n",
    "    model.compile(optimizer= 'adam' ,loss='categorical_crossentropy',metrics=['accuracy'])\n",
    "    return model\n"
   ]
  },
  {
   "cell_type": "code",
   "execution_count": 23,
   "metadata": {
    "collapsed": true
   },
   "outputs": [],
   "source": [
    "# Early stopping to save the best model \n",
    "callbacks = [EarlyStopping(monitor='val_loss', patience=5, verbose=1),ModelCheckpoint('best_cnn.h5', monitor='val_loss', save_best_only=True)]"
   ]
  },
  {
   "cell_type": "code",
   "execution_count": 8,
   "metadata": {},
   "outputs": [
    {
     "name": "stdout",
     "output_type": "stream",
     "text": [
      "Train on 40200 samples, validate on 19800 samples\n",
      "Epoch 1/20\n",
      "40200/40200 [==============================] - 485s 12ms/step - loss: 0.5295 - acc: 0.8088 - val_loss: 2.2386 - val_acc: 0.2062\n",
      "Epoch 2/20\n",
      "40200/40200 [==============================] - 406s 10ms/step - loss: 0.3479 - acc: 0.8728 - val_loss: 0.5475 - val_acc: 0.7865\n",
      "Epoch 3/20\n",
      "40200/40200 [==============================] - 365s 9ms/step - loss: 0.2932 - acc: 0.8938 - val_loss: 0.2723 - val_acc: 0.8991\n",
      "Epoch 4/20\n",
      "40200/40200 [==============================] - 333s 8ms/step - loss: 0.2607 - acc: 0.9047 - val_loss: 0.2684 - val_acc: 0.9029\n",
      "Epoch 5/20\n",
      "40200/40200 [==============================] - 325s 8ms/step - loss: 0.2391 - acc: 0.9125 - val_loss: 0.2390 - val_acc: 0.9114\n",
      "Epoch 6/20\n",
      "40200/40200 [==============================] - 371s 9ms/step - loss: 0.2164 - acc: 0.9208 - val_loss: 0.2392 - val_acc: 0.9112\n",
      "Epoch 7/20\n",
      "40200/40200 [==============================] - 411s 10ms/step - loss: 0.2063 - acc: 0.9240 - val_loss: 0.2336 - val_acc: 0.9167\n",
      "Epoch 8/20\n",
      "40200/40200 [==============================] - 326s 8ms/step - loss: 0.1924 - acc: 0.9307 - val_loss: 0.2389 - val_acc: 0.9136\n",
      "Epoch 9/20\n",
      "40200/40200 [==============================] - 353s 9ms/step - loss: 0.1800 - acc: 0.9336 - val_loss: 0.2248 - val_acc: 0.9211\n",
      "Epoch 10/20\n",
      "40200/40200 [==============================] - 330s 8ms/step - loss: 0.1687 - acc: 0.9377 - val_loss: 0.2361 - val_acc: 0.9171\n",
      "Epoch 11/20\n",
      "40200/40200 [==============================] - 304s 8ms/step - loss: 0.1579 - acc: 0.9413 - val_loss: 0.2093 - val_acc: 0.9261\n",
      "Epoch 12/20\n",
      "40200/40200 [==============================] - 302s 8ms/step - loss: 0.1494 - acc: 0.9449 - val_loss: 0.2412 - val_acc: 0.9156\n",
      "Epoch 13/20\n",
      "40200/40200 [==============================] - 405s 10ms/step - loss: 0.1371 - acc: 0.9497 - val_loss: 0.2219 - val_acc: 0.9218\n",
      "Epoch 14/20\n",
      "40200/40200 [==============================] - 340s 8ms/step - loss: 0.1307 - acc: 0.9512 - val_loss: 0.2155 - val_acc: 0.9252\n",
      "Epoch 15/20\n",
      "40200/40200 [==============================] - 315s 8ms/step - loss: 0.1278 - acc: 0.9519 - val_loss: 0.2255 - val_acc: 0.9215\n",
      "Epoch 16/20\n",
      "40200/40200 [==============================] - 327s 8ms/step - loss: 0.1169 - acc: 0.9578 - val_loss: 0.2230 - val_acc: 0.9238\n",
      "Epoch 00016: early stopping\n"
     ]
    }
   ],
   "source": [
    "# Training the model\n",
    "batch_size = 150\n",
    "epochs = 20\n",
    "model = create_model()\n",
    "history = model.fit(X_train, y_train,\n",
    "                    batch_size=batch_size,\n",
    "                    epochs=epochs,\n",
    "                    callbacks = callbacks,\n",
    "                    verbose=1,\n",
    "validation_data=(X_val, y_val))"
   ]
  },
  {
   "cell_type": "code",
   "execution_count": 25,
   "metadata": {},
   "outputs": [
    {
     "name": "stdout",
     "output_type": "stream",
     "text": [
      "Test loss: 0.212055019379\n",
      "Test accuracy: 0.9304\n"
     ]
    }
   ],
   "source": [
    "# Evaluate the best model\n",
    "\n",
    "best_model = load_model('best_cnn2.h5')\n",
    "score = best_model.evaluate(X_test, y_test, verbose=0)\n",
    "print('Test loss:', score[0])\n",
    "print('Test accuracy:', score[1])\n"
   ]
  },
  {
   "cell_type": "code",
   "execution_count": 26,
   "metadata": {},
   "outputs": [],
   "source": [
    "# Make predictions about the classes\n",
    "predictions = best_model.predict_classes(X_test,batch_size=150)  \n"
   ]
  },
  {
   "cell_type": "code",
   "execution_count": 19,
   "metadata": {},
   "outputs": [
    {
     "name": "stdout",
     "output_type": "stream",
     "text": [
      "Saved file: best_cnn_classification.csv\n"
     ]
    }
   ],
   "source": [
    "# Save the classification\n",
    "\n",
    "filename = 'best_cnn_classification.csv';\n",
    "PictureID = list(range(1,len(predictions)+1))\n",
    "submission = pd.DataFrame({'Clothe_category':predictions })\n",
    "submission.to_csv(filename,header = True, index = False)\n",
    "print('Saved file: ' + filename)"
   ]
  },
  {
   "cell_type": "code",
   "execution_count": 10,
   "metadata": {},
   "outputs": [
    {
     "name": "stdout",
     "output_type": "stream",
     "text": [
      "_________________________________________________________________\n",
      "Layer (type)                 Output Shape              Param #   \n",
      "=================================================================\n",
      "conv2d_1 (Conv2D)            (None, 26, 26, 32)        320       \n",
      "_________________________________________________________________\n",
      "conv2d_2 (Conv2D)            (None, 24, 24, 32)        9248      \n",
      "_________________________________________________________________\n",
      "batch_normalization_1 (Batch (None, 24, 24, 32)        128       \n",
      "_________________________________________________________________\n",
      "max_pooling2d_1 (MaxPooling2 (None, 12, 12, 32)        0         \n",
      "_________________________________________________________________\n",
      "dropout_1 (Dropout)          (None, 12, 12, 32)        0         \n",
      "_________________________________________________________________\n",
      "conv2d_3 (Conv2D)            (None, 10, 10, 64)        18496     \n",
      "_________________________________________________________________\n",
      "conv2d_4 (Conv2D)            (None, 8, 8, 64)          36928     \n",
      "_________________________________________________________________\n",
      "batch_normalization_2 (Batch (None, 8, 8, 64)          256       \n",
      "_________________________________________________________________\n",
      "max_pooling2d_2 (MaxPooling2 (None, 4, 4, 64)          0         \n",
      "_________________________________________________________________\n",
      "dropout_2 (Dropout)          (None, 4, 4, 64)          0         \n",
      "_________________________________________________________________\n",
      "flatten_1 (Flatten)          (None, 1024)              0         \n",
      "_________________________________________________________________\n",
      "dense_1 (Dense)              (None, 128)               131200    \n",
      "_________________________________________________________________\n",
      "batch_normalization_3 (Batch (None, 128)               512       \n",
      "_________________________________________________________________\n",
      "dense_2 (Dense)              (None, 10)                1290      \n",
      "=================================================================\n",
      "Total params: 198,378\n",
      "Trainable params: 197,930\n",
      "Non-trainable params: 448\n",
      "_________________________________________________________________\n",
      "None\n"
     ]
    }
   ],
   "source": [
    "# Data Model visualization\n",
    "print(best_model.summary())"
   ]
  },
  {
   "cell_type": "code",
   "execution_count": 27,
   "metadata": {},
   "outputs": [
    {
     "name": "stdout",
     "output_type": "stream",
     "text": [
      "             precision    recall  f1-score   support\n",
      "\n",
      "    Class 0       0.87      0.88      0.87      1000\n",
      "    Class 1       0.99      0.99      0.99      1000\n",
      "    Class 2       0.90      0.89      0.89      1000\n",
      "    Class 3       0.94      0.94      0.94      1000\n",
      "    Class 4       0.91      0.90      0.91      1000\n",
      "    Class 5       0.99      0.97      0.98      1000\n",
      "    Class 6       0.80      0.80      0.80      1000\n",
      "    Class 7       0.96      0.97      0.96      1000\n",
      "    Class 8       0.97      0.99      0.98      1000\n",
      "    Class 9       0.96      0.98      0.97      1000\n",
      "\n",
      "avg / total       0.93      0.93      0.93     10000\n",
      "\n"
     ]
    }
   ],
   "source": [
    "# Studying misclassfications\n",
    "\n",
    "target_names = [\"Class {}\".format(i) for i in range(number_of_classes)]\n",
    "y_true = testing_set.iloc[:,0]\n",
    "\n",
    "print(classification_report(y_true, predictions, target_names=target_names))\n",
    "\n"
   ]
  },
  {
   "cell_type": "code",
   "execution_count": 28,
   "metadata": {},
   "outputs": [
    {
     "name": "stdout",
     "output_type": "stream",
     "text": [
      "[[877   1  15   7   2   0  88   0  10   0]\n",
      " [  1 986   0   9   1   1   2   0   0   0]\n",
      " [ 19   1 887  11  23   0  54   0   5   0]\n",
      " [ 15   6   3 944  16   0  14   0   2   0]\n",
      " [  0   1  41  19 902   0  36   0   1   0]\n",
      " [  0   0   0   0   0 974   0  16   1   9]\n",
      " [ 90   0  36  18  46   0 802   0   8   0]\n",
      " [  0   0   0   0   0   4   0 967   0  29]\n",
      " [  4   0   1   1   1   1   2   0 989   1]\n",
      " [  0   0   0   0   0   2   0  22   0 976]]\n"
     ]
    }
   ],
   "source": [
    "print(confusion_matrix(y_true, predictions))"
   ]
  },
  {
   "cell_type": "code",
   "execution_count": 17,
   "metadata": {},
   "outputs": [
    {
     "data": {
      "image/png": "[encoded data removed]",
      "text/plain": [
       "<matplotlib.figure.Figure at 0x17f1173fac8>"
      ]
     },
     "metadata": {},
     "output_type": "display_data"
    }
   ],
   "source": [
    "#Let's display actual shirts\n",
    "y_true = np.array(y_true)\n",
    "shirt = predictions == 6\n",
    "acurate_prediction = predictions == y_true \n",
    "real_shirt = np.nonzero( shirt & acurate_prediction)[0] \n",
    "for i, real_shirt in enumerate(real_shirt[:9]):\n",
    "    plt.subplot(330 + 1 + i)\n",
    "    plt.imshow(np.squeeze(X_test[real_shirt]), cmap='gray')\n",
    "plt.show()"
   ]
  },
  {
   "cell_type": "code",
   "execution_count": 18,
   "metadata": {},
   "outputs": [
    {
     "data": {
      "image/png": "[encoded data removed]",
      "text/plain": [
       "<matplotlib.figure.Figure at 0x17f11699828>"
      ]
     },
     "metadata": {},
     "output_type": "display_data"
    }
   ],
   "source": [
    "# Let's display misclassified shirts\n",
    "y_true = np.array(y_true)\n",
    "shirt = predictions == 6\n",
    "prediction_error = predictions!=y_true \n",
    "fake_shirt = np.nonzero( shirt & prediction_error)[0] \n",
    "\n",
    "for i, fake_shirt in enumerate(fake_shirt[:9]):\n",
    "    #plt.subplot(440 + 1 + i)\n",
    "    plt.subplot(3,3,i+1)\n",
    "    #plt.subplot(10,5,i+1)\n",
    "    plt.imshow(np.squeeze(X_test[fake_shirt]), cmap='gray')\n",
    "    #plt.title(\"Predicted class {}, Actual Class {}\".format(predictions[fake_shirt], y_true[fake_shirt]))\n",
    "    plt.title(y_true[fake_shirt])\n",
    "    \n",
    "#figure = plt.gcf()\n",
    "plt.tight_layout()\n",
    "plt.show()\n",
    "#figure.savefig('misclassification.png')    \n",
    "    "
   ]
  },
  {
   "cell_type": "code",
   "execution_count": null,
   "metadata": {
    "collapsed": true
   },
   "outputs": [],
   "source": []
  }
 ],
 "metadata": {
  "kernelspec": {
   "display_name": "Python 3",
   "language": "python",
   "name": "python3"
  },
  "language_info": {
   "codemirror_mode": {
    "name": "ipython",
    "version": 3
   },
   "file_extension": ".py",
   "mimetype": "text/x-python",
   "name": "python",
   "nbconvert_exporter": "python",
   "pygments_lexer": "ipython3",
   "version": "3.6.3"
  }
 },
 "nbformat": 4,
 "nbformat_minor": 2
}
