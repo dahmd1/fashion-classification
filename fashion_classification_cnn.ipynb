{
 "cells": [
  {
   "cell_type": "code",
   "execution_count": 2,
   "metadata": {},
   "outputs": [
    {
     "name": "stderr",
     "output_type": "stream",
     "text": [
      "Using TensorFlow backend.\n"
     ]
    }
   ],
   "source": [
    "import keras\n",
    "import numpy as np\n",
    "import pandas as pd\n",
    "import matplotlib.pyplot as plt\n",
    "from keras.models import Sequential\n",
    "from keras.layers import Dropout,Dense,Flatten\n",
    "from keras.layers.convolutional import Conv2D,MaxPooling2D\n",
    "from keras.utils import to_categorical\n",
    "from sklearn.model_selection import train_test_split\n",
    "from keras.wrappers.scikit_learn import KerasClassifier\n",
    "from sklearn.model_selection import cross_val_score\n",
    "from sklearn.model_selection import StratifiedKFold\n",
    "from keras.preprocessing.image import ImageDataGenerator\n",
    "from sklearn.model_selection import GridSearchCV\n",
    "from sklearn.model_selection import RandomizedSearchCV\n",
    "from keras.layers.normalization import BatchNormalization\n",
    "from sklearn.model_selection import train_test_split\n",
    "from keras.callbacks import EarlyStopping, ModelCheckpoint\n",
    "from keras.models import load_model\n",
    "from sklearn.metrics import classification_report\n",
    "from sklearn.metrics import confusion_matrix\n"
   ]
  },
  {
   "cell_type": "code",
   "execution_count": 3,
   "metadata": {
    "collapsed": true
   },
   "outputs": [],
   "source": [
    "# fix random seed for reproducibility\n",
    "seed = 7\n",
    "np.random.seed(seed)"
   ]
  },
  {
   "cell_type": "code",
   "execution_count": 4,
   "metadata": {
    "collapsed": true
   },
   "outputs": [],
   "source": [
    "#load the data\n",
    "\n",
    "training_set = pd.read_csv('fashion-mnist_train.csv')\n",
    "testing_set = pd.read_csv('fashion-mnist_test.csv')\n",
    "\n"
   ]
  },
  {
   "cell_type": "code",
   "execution_count": 5,
   "metadata": {
    "collapsed": true
   },
   "outputs": [],
   "source": [
    "#Preprocess the data \n",
    "# Reshape the given csv into the original images\n",
    "\n",
    "\n",
    "# Creation of validation dataset to improve model performance evalutation\n",
    "X = np.array(training_set.iloc[:,1:])\n",
    "X = X.reshape(X.shape[0],28,28,1).astype('float32')\n",
    "X = X/255\n",
    "y = to_categorical(np.array(training_set.iloc[:,0])) \n",
    "X_train, X_val, y_train, y_val = train_test_split(X, y, test_size=0.33, random_state=seed)\n",
    "\n",
    "X_test = np.array(testing_set.iloc[:,1:])\n",
    "X_test = X_test.reshape(X_test.shape[0],28,28,1).astype('float32')\n",
    "X_test = X_test/255\n",
    "y_test = to_categorical(np.array(testing_set.iloc[:,0]))\n"
   ]
  },
  {
   "cell_type": "code",
   "execution_count": 7,
   "metadata": {},
   "outputs": [
    {
     "data": {
      "image/png": "[encoded data removed]",
      "text/plain": [
       "<matplotlib.figure.Figure at 0x183d47342e8>"
      ]
     },
     "metadata": {},
     "output_type": "display_data"
    }
   ],
   "source": [
    "# Check if the reshaping worked by displaying the 9 first images \n",
    "\n",
    "for i in range(0,9):\n",
    "    plt.subplot(330 + 1 + i)\n",
    "    plt.imshow(np.squeeze(X_train[i]), cmap='gray')\n",
    "plt.show()"
   ]
  },
  {
   "cell_type": "code",
   "execution_count": 6,
   "metadata": {
    "collapsed": true
   },
   "outputs": [],
   "source": [
    "# Building a cnn model\n",
    "shape = (28,28,1)\n",
    "number_of_classes = y_test.shape[1]\n",
    "def create_model():\n",
    "    model = Sequential()\n",
    "    model.add(Conv2D(32,(5,5),activation ='relu',input_shape = shape ))\n",
    "    model.add(Conv2D(32,(5,5),activation ='relu',input_shape = shape ))\n",
    "    model.add(BatchNormalization())\n",
    "    model.add(MaxPooling2D(pool_size=(2, 2)))\n",
    "    model.add(Dropout(0.2))\n",
    "    model.add(Conv2D(64,(5,5),activation ='relu' ))\n",
    "    model.add(Conv2D(64,(5,5),activation ='relu' ))\n",
    "    model.add(BatchNormalization())\n",
    "    model.add(MaxPooling2D(pool_size=(2, 2)))\n",
    "    model.add(Dropout(0.2))\n",
    "    model.add(Flatten())\n",
    "    model.add(Dense(128, activation='relu'))\n",
    "    model.add(BatchNormalization())\n",
    "    model.add(Dense(number_of_classes, activation='softmax'))\n",
    "    model.compile(optimizer='adam',loss='categorical_crossentropy',metrics=['accuracy'])\n",
    "    return model\n"
   ]
  },
  {
   "cell_type": "code",
   "execution_count": 13,
   "metadata": {
    "collapsed": true
   },
   "outputs": [],
   "source": [
    "# Early stopping to save the best model \n",
    "callbacks = [EarlyStopping(monitor='val_loss', patience=2, verbose=1),ModelCheckpoint('best_cnn.h5', monitor='val_loss', save_best_only=True)]"
   ]
  },
  {
   "cell_type": "code",
   "execution_count": 14,
   "metadata": {},
   "outputs": [
    {
     "name": "stdout",
     "output_type": "stream",
     "text": [
      "Train on 40200 samples, validate on 19800 samples\n",
      "Epoch 1/20\n",
      "40200/40200 [==============================] - 461s 11ms/step - loss: 0.6056 - acc: 0.7804 - val_loss: 1.2449 - val_acc: 0.5323\n",
      "Epoch 2/20\n",
      "40200/40200 [==============================] - 433s 11ms/step - loss: 0.3842 - acc: 0.8611 - val_loss: 0.4041 - val_acc: 0.8633\n",
      "Epoch 3/20\n",
      "40200/40200 [==============================] - 447s 11ms/step - loss: 0.3286 - acc: 0.8793 - val_loss: 0.3060 - val_acc: 0.8889\n",
      "Epoch 4/20\n",
      "40200/40200 [==============================] - 415s 10ms/step - loss: 0.2954 - acc: 0.8922 - val_loss: 0.3173 - val_acc: 0.8892\n",
      "Epoch 5/20\n",
      "40200/40200 [==============================] - 392s 10ms/step - loss: 0.2723 - acc: 0.9004 - val_loss: 0.2835 - val_acc: 0.8971\n",
      "Epoch 6/20\n",
      "40200/40200 [==============================] - 407s 10ms/step - loss: 0.2503 - acc: 0.9078 - val_loss: 0.2965 - val_acc: 0.8914\n",
      "Epoch 7/20\n",
      "40200/40200 [==============================] - 438s 11ms/step - loss: 0.2382 - acc: 0.9134 - val_loss: 0.2518 - val_acc: 0.9088\n",
      "Epoch 8/20\n",
      "40200/40200 [==============================] - 359s 9ms/step - loss: 0.2210 - acc: 0.9191 - val_loss: 0.2605 - val_acc: 0.9087\n",
      "Epoch 9/20\n",
      "40200/40200 [==============================] - 381s 9ms/step - loss: 0.2065 - acc: 0.9246 - val_loss: 0.2515 - val_acc: 0.9127\n",
      "Epoch 10/20\n",
      "40200/40200 [==============================] - 403s 10ms/step - loss: 0.1937 - acc: 0.9278 - val_loss: 0.2626 - val_acc: 0.9039\n",
      "Epoch 11/20\n",
      "40200/40200 [==============================] - 383s 10ms/step - loss: 0.1850 - acc: 0.9311 - val_loss: 0.2424 - val_acc: 0.9150\n",
      "Epoch 12/20\n",
      "40200/40200 [==============================] - 391s 10ms/step - loss: 0.1765 - acc: 0.9347 - val_loss: 0.2381 - val_acc: 0.9175\n",
      "Epoch 13/20\n",
      "40200/40200 [==============================] - 364s 9ms/step - loss: 0.1638 - acc: 0.9394 - val_loss: 0.2474 - val_acc: 0.9134\n",
      "Epoch 14/20\n",
      "40200/40200 [==============================] - 358s 9ms/step - loss: 0.1555 - acc: 0.9428 - val_loss: 0.2462 - val_acc: 0.9164\n",
      "Epoch 00014: early stopping\n"
     ]
    }
   ],
   "source": [
    "# Training the model\n",
    "batch_size = 150\n",
    "epochs = 20\n",
    "model = create_model()\n",
    "history = model.fit(X_train, y_train,\n",
    "                    batch_size=batch_size,\n",
    "                    epochs=epochs,\n",
    "                    callbacks = callbacks,\n",
    "                    verbose=1,\n",
    "validation_data=(X_val, y_val))"
   ]
  },
  {
   "cell_type": "code",
   "execution_count": 7,
   "metadata": {},
   "outputs": [
    {
     "name": "stdout",
     "output_type": "stream",
     "text": [
      "Test loss: 0.223320041239\n",
      "Test accuracy: 0.9183\n"
     ]
    }
   ],
   "source": [
    "# Evaluate the best model\n",
    "\n",
    "best_model = load_model('best_cnn.h5')\n",
    "score = best_model.evaluate(X_test, y_test, verbose=0)\n",
    "print('Test loss:', score[0])\n",
    "print('Test accuracy:', score[1])\n"
   ]
  },
  {
   "cell_type": "code",
   "execution_count": 8,
   "metadata": {
    "collapsed": true
   },
   "outputs": [],
   "source": [
    "# Make predictions about the classes\n",
    "predictions = best_model.predict_classes(X_test,batch_size=150)  \n"
   ]
  },
  {
   "cell_type": "code",
   "execution_count": 19,
   "metadata": {},
   "outputs": [
    {
     "name": "stdout",
     "output_type": "stream",
     "text": [
      "Saved file: best_cnn_classification.csv\n"
     ]
    }
   ],
   "source": [
    "# Save the classification\n",
    "\n",
    "filename = 'best_cnn_classification.csv';\n",
    "PictureID = list(range(1,len(predictions)+1))\n",
    "submission = pd.DataFrame({'Clothe_category':predictions })\n",
    "submission.to_csv(filename,header = True, index = False)\n",
    "print('Saved file: ' + filename)"
   ]
  },
  {
   "cell_type": "code",
   "execution_count": 20,
   "metadata": {},
   "outputs": [
    {
     "name": "stdout",
     "output_type": "stream",
     "text": [
      "_________________________________________________________________\n",
      "Layer (type)                 Output Shape              Param #   \n",
      "=================================================================\n",
      "conv2d_1 (Conv2D)            (None, 24, 24, 32)        832       \n",
      "_________________________________________________________________\n",
      "conv2d_2 (Conv2D)            (None, 20, 20, 32)        25632     \n",
      "_________________________________________________________________\n",
      "batch_normalization_1 (Batch (None, 20, 20, 32)        128       \n",
      "_________________________________________________________________\n",
      "max_pooling2d_1 (MaxPooling2 (None, 10, 10, 32)        0         \n",
      "_________________________________________________________________\n",
      "dropout_1 (Dropout)          (None, 10, 10, 32)        0         \n",
      "_________________________________________________________________\n",
      "conv2d_3 (Conv2D)            (None, 6, 6, 64)          51264     \n",
      "_________________________________________________________________\n",
      "conv2d_4 (Conv2D)            (None, 2, 2, 64)          102464    \n",
      "_________________________________________________________________\n",
      "batch_normalization_2 (Batch (None, 2, 2, 64)          256       \n",
      "_________________________________________________________________\n",
      "max_pooling2d_2 (MaxPooling2 (None, 1, 1, 64)          0         \n",
      "_________________________________________________________________\n",
      "dropout_2 (Dropout)          (None, 1, 1, 64)          0         \n",
      "_________________________________________________________________\n",
      "flatten_1 (Flatten)          (None, 64)                0         \n",
      "_________________________________________________________________\n",
      "dense_1 (Dense)              (None, 128)               8320      \n",
      "_________________________________________________________________\n",
      "batch_normalization_3 (Batch (None, 128)               512       \n",
      "_________________________________________________________________\n",
      "dense_2 (Dense)              (None, 10)                1290      \n",
      "=================================================================\n",
      "Total params: 190,698\n",
      "Trainable params: 190,250\n",
      "Non-trainable params: 448\n",
      "_________________________________________________________________\n",
      "None\n"
     ]
    }
   ],
   "source": [
    "# Data Model visualization\n",
    "print(model.summary())"
   ]
  },
  {
   "cell_type": "code",
   "execution_count": 21,
   "metadata": {},
   "outputs": [
    {
     "data": {
      "image/png": "[encoded data removed]",
      "text/plain": [
       "<matplotlib.figure.Figure at 0x183a09c63c8>"
      ]
     },
     "metadata": {},
     "output_type": "display_data"
    }
   ],
   "source": [
    "# Accuracy visualization\n",
    "training_accuracy = history.history['acc']\n",
    "testing_accuracy = history.history['val_acc']\n",
    "plt.plot(training_accuracy)\n",
    "plt.plot(testing_accuracy)\n",
    "plt.title('Model accuracy')\n",
    "plt.legend(['training set', 'testing set'], loc='upper left')\n",
    "plt.ylabel('accuracy')\n",
    "plt.xlabel('epoch')\n",
    "plt.show()"
   ]
  },
  {
   "cell_type": "code",
   "execution_count": 22,
   "metadata": {},
   "outputs": [
    {
     "data": {
      "image/png": "[encoded data removed]",
      "text/plain": [
       "<matplotlib.figure.Figure at 0x183af78b048>"
      ]
     },
     "metadata": {},
     "output_type": "display_data"
    }
   ],
   "source": [
    "# Loss visualization\n",
    "\n",
    "training_loss = history.history['loss']\n",
    "testing_loss = history.history['val_loss']\n",
    "plt.plot(training_loss)\n",
    "plt.plot(testing_loss)\n",
    "plt.title('Model loss')\n",
    "plt.legend(['training set', 'testing set'], loc='upper left')\n",
    "plt.ylabel('loss')\n",
    "plt.xlabel('epoch')\n",
    "\n",
    "plt.show()\n"
   ]
  },
  {
   "cell_type": "code",
   "execution_count": 10,
   "metadata": {},
   "outputs": [
    {
     "name": "stdout",
     "output_type": "stream",
     "text": [
      "             precision    recall  f1-score   support\n",
      "\n",
      "    Class 0       0.88      0.85      0.87      1000\n",
      "    Class 1       1.00      0.97      0.99      1000\n",
      "    Class 2       0.90      0.86      0.88      1000\n",
      "    Class 3       0.90      0.93      0.92      1000\n",
      "    Class 4       0.85      0.89      0.87      1000\n",
      "    Class 5       0.98      0.98      0.98      1000\n",
      "    Class 6       0.77      0.78      0.78      1000\n",
      "    Class 7       0.95      0.97      0.96      1000\n",
      "    Class 8       0.98      0.99      0.98      1000\n",
      "    Class 9       0.97      0.96      0.97      1000\n",
      "\n",
      "avg / total       0.92      0.92      0.92     10000\n",
      "\n"
     ]
    }
   ],
   "source": [
    "# Studying misclassfications\n",
    "\n",
    "target_names = [\"Class {}\".format(i) for i in range(number_of_classes)]\n",
    "y_true = testing_set.iloc[:,0]\n",
    "\n",
    "print(classification_report(y_true, predictions, target_names=target_names))\n",
    "\n"
   ]
  },
  {
   "cell_type": "code",
   "execution_count": 12,
   "metadata": {},
   "outputs": [
    {
     "name": "stdout",
     "output_type": "stream",
     "text": [
      "[[848   0  12  34   1   0 101   0   4   0]\n",
      " [  1 975   1  16   2   1   4   0   0   0]\n",
      " [ 19   0 858  11  55   1  52   0   4   0]\n",
      " [ 10   1   2 934  37   0  13   0   3   0]\n",
      " [  0   0  37  18 890   1  53   0   1   0]\n",
      " [  0   0   0   0   0 980   0  16   1   3]\n",
      " [ 82   0  45  27  55   2 782   0   7   0]\n",
      " [  0   0   0   0   0   7   0 969   0  24]\n",
      " [  0   0   3   1   3   2   5   0 986   0]\n",
      " [  0   0   0   0   0   4   0  34   1 961]]\n"
     ]
    }
   ],
   "source": [
    "print(confusion_matrix(y_true, predictions))"
   ]
  },
  {
   "cell_type": "code",
   "execution_count": null,
   "metadata": {
    "collapsed": true
   },
   "outputs": [],
   "source": []
  }
 ],
 "metadata": {
  "kernelspec": {
   "display_name": "Python 3",
   "language": "python",
   "name": "python3"
  },
  "language_info": {
   "codemirror_mode": {
    "name": "ipython",
    "version": 3
   },
   "file_extension": ".py",
   "mimetype": "text/x-python",
   "name": "python",
   "nbconvert_exporter": "python",
   "pygments_lexer": "ipython3",
   "version": "3.6.3"
  }
 },
 "nbformat": 4,
 "nbformat_minor": 2
}
