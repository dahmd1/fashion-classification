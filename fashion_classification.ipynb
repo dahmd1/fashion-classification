{
 "cells": [
  {
   "cell_type": "code",
   "execution_count": 34,
   "metadata": {
    "collapsed": true
   },
   "outputs": [],
   "source": [
    "import keras\n",
    "import numpy as np\n",
    "import pandas as pd\n",
    "import matplotlib.pyplot as plt\n",
    "from keras.models import Sequential\n",
    "from keras.layers import Dropout\n",
    "from keras.layers import Dense\n",
    "from keras.utils import to_categorical\n",
    "from sklearn.model_selection import train_test_split\n"
   ]
  },
  {
   "cell_type": "code",
   "execution_count": 57,
   "metadata": {
    "collapsed": true
   },
   "outputs": [],
   "source": [
    "# fix random seed for reproducibility\n",
    "seed = 7\n",
    "np.random.seed(seed)"
   ]
  },
  {
   "cell_type": "code",
   "execution_count": 2,
   "metadata": {
    "collapsed": true
   },
   "outputs": [],
   "source": [
    "#load the data\n",
    "\n",
    "training_set = pd.read_csv('fashion-mnist_train.csv')\n",
    "testing_set = pd.read_csv('fashion-mnist_test.csv')\n",
    "\n"
   ]
  },
  {
   "cell_type": "code",
   "execution_count": 12,
   "metadata": {
    "collapsed": true
   },
   "outputs": [],
   "source": [
    "#Preprocess the data \n",
    "# pixels values for each image\n",
    "X_train = np.array(training_set.iloc[:,1:])\n",
    "X_test = np.array(testing_set.iloc[:,1:])\n",
    "X_train = X_train/255\n",
    "X_test = X_test/255\n",
    "\n",
    "#label for each image\n",
    "y_train = to_categorical(np.array(training_set.iloc[:,0])) \n",
    "y_test = to_categorical(np.array(testing_set.iloc[:,0]))"
   ]
  },
  {
   "cell_type": "code",
   "execution_count": 59,
   "metadata": {
    "collapsed": true
   },
   "outputs": [],
   "source": [
    "# Building a first baseline model\n",
    "pixel_numbers = X_train.shape[1]\n",
    "number_of_classes = y_test.shape[1]\n",
    "model = Sequential()\n",
    "model.add(Dropout(0.2, input_shape=(pixel_numbers,)))\n",
    "model.add(Dense(512,activation='relu'))\n",
    "model.add(Dropout(0.2))\n",
    "model.add(Dense(512, activation='relu'))\n",
    "model.add(Dropout(0.2))\n",
    "model.add(Dense(number_of_classes, activation='softmax'))\n"
   ]
  },
  {
   "cell_type": "code",
   "execution_count": 60,
   "metadata": {
    "collapsed": true
   },
   "outputs": [],
   "source": [
    "# Compiling the model\n",
    "model.compile(optimizer='adam',loss='categorical_crossentropy',metrics=['accuracy'])"
   ]
  },
  {
   "cell_type": "code",
   "execution_count": 61,
   "metadata": {},
   "outputs": [
    {
     "name": "stdout",
     "output_type": "stream",
     "text": [
      "Train on 60000 samples, validate on 10000 samples\n",
      "Epoch 1/30\n",
      "60000/60000 [==============================] - 25s 409us/step - loss: 0.5687 - acc: 0.7936 - val_loss: 0.4170 - val_acc: 0.8470\n",
      "Epoch 2/30\n",
      "60000/60000 [==============================] - 22s 369us/step - loss: 0.4259 - acc: 0.8439 - val_loss: 0.3541 - val_acc: 0.8696\n",
      "Epoch 3/30\n",
      "60000/60000 [==============================] - 26s 432us/step - loss: 0.3921 - acc: 0.8575 - val_loss: 0.3499 - val_acc: 0.8711\n",
      "Epoch 4/30\n",
      "60000/60000 [==============================] - 23s 381us/step - loss: 0.3727 - acc: 0.8625 - val_loss: 0.3346 - val_acc: 0.8765\n",
      "Epoch 5/30\n",
      "60000/60000 [==============================] - 27s 445us/step - loss: 0.3553 - acc: 0.8676 - val_loss: 0.3274 - val_acc: 0.8736\n",
      "Epoch 6/30\n",
      "60000/60000 [==============================] - 25s 414us/step - loss: 0.3436 - acc: 0.8722 - val_loss: 0.3193 - val_acc: 0.8754\n",
      "Epoch 7/30\n",
      "60000/60000 [==============================] - 24s 394us/step - loss: 0.3354 - acc: 0.8743 - val_loss: 0.3153 - val_acc: 0.8830\n",
      "Epoch 8/30\n",
      "60000/60000 [==============================] - 24s 397us/step - loss: 0.3260 - acc: 0.8786 - val_loss: 0.3055 - val_acc: 0.8866\n",
      "Epoch 9/30\n",
      "60000/60000 [==============================] - 23s 388us/step - loss: 0.3178 - acc: 0.8810 - val_loss: 0.3061 - val_acc: 0.8893\n",
      "Epoch 10/30\n",
      "60000/60000 [==============================] - 23s 383us/step - loss: 0.3142 - acc: 0.8809 - val_loss: 0.2903 - val_acc: 0.8917\n",
      "Epoch 11/30\n",
      "60000/60000 [==============================] - 24s 395us/step - loss: 0.3037 - acc: 0.8850 - val_loss: 0.2867 - val_acc: 0.8916\n",
      "Epoch 12/30\n",
      "60000/60000 [==============================] - 23s 390us/step - loss: 0.3031 - acc: 0.8844 - val_loss: 0.3019 - val_acc: 0.8875\n",
      "Epoch 13/30\n",
      "60000/60000 [==============================] - 24s 396us/step - loss: 0.2970 - acc: 0.8876 - val_loss: 0.2885 - val_acc: 0.8958\n",
      "Epoch 14/30\n",
      "60000/60000 [==============================] - 23s 389us/step - loss: 0.2909 - acc: 0.8902 - val_loss: 0.2788 - val_acc: 0.8966\n",
      "Epoch 15/30\n",
      "60000/60000 [==============================] - 24s 405us/step - loss: 0.2852 - acc: 0.8914 - val_loss: 0.2872 - val_acc: 0.8935\n",
      "Epoch 16/30\n",
      "60000/60000 [==============================] - 24s 394us/step - loss: 0.2801 - acc: 0.8934 - val_loss: 0.2836 - val_acc: 0.8962\n",
      "Epoch 17/30\n",
      "60000/60000 [==============================] - 23s 383us/step - loss: 0.2801 - acc: 0.8940 - val_loss: 0.2882 - val_acc: 0.8927\n",
      "Epoch 18/30\n",
      "60000/60000 [==============================] - 22s 366us/step - loss: 0.2760 - acc: 0.8959 - val_loss: 0.2795 - val_acc: 0.8952\n",
      "Epoch 19/30\n",
      "60000/60000 [==============================] - 22s 366us/step - loss: 0.2711 - acc: 0.8967 - val_loss: 0.2687 - val_acc: 0.8978\n",
      "Epoch 20/30\n",
      "60000/60000 [==============================] - 23s 387us/step - loss: 0.2679 - acc: 0.8983 - val_loss: 0.2810 - val_acc: 0.8955\n",
      "Epoch 21/30\n",
      "60000/60000 [==============================] - 23s 391us/step - loss: 0.2700 - acc: 0.8965 - val_loss: 0.2725 - val_acc: 0.8994\n",
      "Epoch 22/30\n",
      "60000/60000 [==============================] - 23s 386us/step - loss: 0.2593 - acc: 0.9020 - val_loss: 0.2752 - val_acc: 0.8958\n",
      "Epoch 23/30\n",
      "60000/60000 [==============================] - 23s 389us/step - loss: 0.2576 - acc: 0.9023 - val_loss: 0.2793 - val_acc: 0.8974\n",
      "Epoch 24/30\n",
      "60000/60000 [==============================] - 24s 400us/step - loss: 0.2580 - acc: 0.9026 - val_loss: 0.2792 - val_acc: 0.8961\n",
      "Epoch 25/30\n",
      "60000/60000 [==============================] - 24s 399us/step - loss: 0.2556 - acc: 0.9027 - val_loss: 0.2706 - val_acc: 0.8989\n",
      "Epoch 26/30\n",
      "60000/60000 [==============================] - 28s 463us/step - loss: 0.2501 - acc: 0.9042 - val_loss: 0.2733 - val_acc: 0.8990\n",
      "Epoch 27/30\n",
      "60000/60000 [==============================] - 23s 383us/step - loss: 0.2488 - acc: 0.9048 - val_loss: 0.2782 - val_acc: 0.8954\n",
      "Epoch 28/30\n",
      "60000/60000 [==============================] - 22s 367us/step - loss: 0.2483 - acc: 0.9031 - val_loss: 0.2764 - val_acc: 0.8975\n",
      "Epoch 29/30\n",
      "60000/60000 [==============================] - 22s 364us/step - loss: 0.2424 - acc: 0.9072 - val_loss: 0.2721 - val_acc: 0.9032\n",
      "Epoch 30/30\n",
      "60000/60000 [==============================] - 22s 366us/step - loss: 0.2432 - acc: 0.9091 - val_loss: 0.2666 - val_acc: 0.9011\n"
     ]
    }
   ],
   "source": [
    "# Training the model\n",
    "batch_size = 150\n",
    "epochs = 30\n",
    "history = model.fit(X_train, y_train,\n",
    "                    batch_size=batch_size,\n",
    "                    epochs=epochs,\n",
    "                    verbose=1,\n",
    "validation_data=(X_test, y_test))"
   ]
  },
  {
   "cell_type": "code",
   "execution_count": 62,
   "metadata": {},
   "outputs": [
    {
     "name": "stdout",
     "output_type": "stream",
     "text": [
      "Test loss: 0.266599480122\n",
      "Test accuracy: 0.9011\n"
     ]
    }
   ],
   "source": [
    "# Evaluate the model \n",
    "score = model.evaluate(X_test, y_test, verbose=0)\n",
    "print('Test loss:', score[0])\n",
    "print('Test accuracy:', score[1])"
   ]
  },
  {
   "cell_type": "code",
   "execution_count": 63,
   "metadata": {},
   "outputs": [],
   "source": [
    "# Make predictions about the classes\n",
    "predictions = model.predict_classes(X_test,batch_size=150)  \n"
   ]
  },
  {
   "cell_type": "code",
   "execution_count": 64,
   "metadata": {},
   "outputs": [
    {
     "name": "stdout",
     "output_type": "stream",
     "text": [
      "_________________________________________________________________\n",
      "Layer (type)                 Output Shape              Param #   \n",
      "=================================================================\n",
      "dropout_2 (Dropout)          (None, 784)               0         \n",
      "_________________________________________________________________\n",
      "dense_7 (Dense)              (None, 512)               401920    \n",
      "_________________________________________________________________\n",
      "dropout_3 (Dropout)          (None, 512)               0         \n",
      "_________________________________________________________________\n",
      "dense_8 (Dense)              (None, 512)               262656    \n",
      "_________________________________________________________________\n",
      "dropout_4 (Dropout)          (None, 512)               0         \n",
      "_________________________________________________________________\n",
      "dense_9 (Dense)              (None, 10)                5130      \n",
      "=================================================================\n",
      "Total params: 669,706\n",
      "Trainable params: 669,706\n",
      "Non-trainable params: 0\n",
      "_________________________________________________________________\n",
      "None\n"
     ]
    }
   ],
   "source": [
    "# Data Model visualization\n",
    "print(model.summary())"
   ]
  },
  {
   "cell_type": "code",
   "execution_count": 65,
   "metadata": {},
   "outputs": [
    {
     "data": {
      "image/png": "[encoded data removed]",
      "text/plain": [
       "<matplotlib.figure.Figure at 0x298834d6908>"
      ]
     },
     "metadata": {},
     "output_type": "display_data"
    }
   ],
   "source": [
    "# Accuracy visualization\n",
    "training_accuracy = history.history['acc']\n",
    "testing_accuracy = history.history['val_acc']\n",
    "plt.plot(training_accuracy)\n",
    "plt.plot(testing_accuracy)\n",
    "plt.title('Model accuracy')\n",
    "plt.legend(['training set', 'testing set'], loc='upper left')\n",
    "plt.ylabel('accuracy')\n",
    "plt.xlabel('epoch')\n",
    "plt.show()"
   ]
  },
  {
   "cell_type": "code",
   "execution_count": 66,
   "metadata": {},
   "outputs": [
    {
     "data": {
      "image/png": "[encoded data removed]",
      "text/plain": [
       "<matplotlib.figure.Figure at 0x298834d65f8>"
      ]
     },
     "metadata": {},
     "output_type": "display_data"
    }
   ],
   "source": [
    "# Loss visualization\n",
    "\n",
    "training_loss = history.history['loss']\n",
    "testing_loss = history.history['val_loss']\n",
    "plt.plot(training_loss)\n",
    "plt.plot(testing_loss)\n",
    "plt.title('Model loss')\n",
    "plt.legend(['training set', 'testing set'], loc='upper left')\n",
    "plt.ylabel('loss')\n",
    "plt.xlabel('epoch')\n",
    "\n",
    "plt.show()\n"
   ]
  },
  {
   "cell_type": "code",
   "execution_count": null,
   "metadata": {
    "collapsed": true
   },
   "outputs": [],
   "source": []
  }
 ],
 "metadata": {
  "kernelspec": {
   "display_name": "Python 3",
   "language": "python",
   "name": "python3"
  },
  "language_info": {
   "codemirror_mode": {
    "name": "ipython",
    "version": 3
   },
   "file_extension": ".py",
   "mimetype": "text/x-python",
   "name": "python",
   "nbconvert_exporter": "python",
   "pygments_lexer": "ipython3",
   "version": "3.6.3"
  }
 },
 "nbformat": 4,
 "nbformat_minor": 2
}
