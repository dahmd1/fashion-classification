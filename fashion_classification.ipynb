{
 "cells": [
  {
   "cell_type": "code",
   "execution_count": 4,
   "metadata": {},
   "outputs": [],
   "source": [
    "import keras\n",
    "import numpy as np\n",
    "import pandas as pd\n",
    "from keras.models import Sequential\n",
    "from keras.layers import Dropout\n",
    "from keras.layers import Dense\n",
    "from keras.utils import to_categorical\n",
    "from sklearn.model_selection import train_test_split\n"
   ]
  },
  {
   "cell_type": "code",
   "execution_count": 2,
   "metadata": {
    "collapsed": true
   },
   "outputs": [],
   "source": [
    "#load the data\n",
    "\n",
    "training_set = pd.read_csv('fashion-mnist_train.csv')\n",
    "testing_set = pd.read_csv('fashion-mnist_test.csv')\n",
    "\n"
   ]
  },
  {
   "cell_type": "code",
   "execution_count": 12,
   "metadata": {},
   "outputs": [],
   "source": [
    "#Preprocess the data \n",
    "# pixels values for each image\n",
    "X_train = np.array(training_set.iloc[:,1:])\n",
    "X_test = np.array(testing_set.iloc[:,1:])\n",
    "X_train = X_train/255\n",
    "X_test = X_test/255\n",
    "\n",
    "#label for each image\n",
    "y_train = to_categorical(np.array(training_set.iloc[:,0])) \n",
    "y_test = to_categorical(np.array(testing_set.iloc[:,0]))"
   ]
  },
  {
   "cell_type": "code",
   "execution_count": 23,
   "metadata": {},
   "outputs": [
    {
     "data": {
      "text/plain": [
       "60000"
      ]
     },
     "execution_count": 23,
     "metadata": {},
     "output_type": "execute_result"
    }
   ],
   "source": [
    "X_train.shape[0]"
   ]
  },
  {
   "cell_type": "code",
   "execution_count": 19,
   "metadata": {
    "collapsed": true
   },
   "outputs": [],
   "source": [
    "# Building a first baseline model\n",
    "pixel_numbers = X_train.shape[1]\n",
    "number_of_classes = y_test.shape[1]\n",
    "model = Sequential()\n",
    "model.add(Dense(512, input_dim = pixel_numbers, activation='relu'))\n",
    "model.add(Dense(512, activation='relu'))\n",
    "model.add(Dense(number_of_classes, activation='softmax'))\n"
   ]
  },
  {
   "cell_type": "code",
   "execution_count": 22,
   "metadata": {},
   "outputs": [],
   "source": [
    "# Compiling the model\n",
    "model.compile(optimizer='adam',loss='categorical_crossentropy',metrics=['accuracy'])"
   ]
  },
  {
   "cell_type": "code",
   "execution_count": 24,
   "metadata": {},
   "outputs": [
    {
     "name": "stdout",
     "output_type": "stream",
     "text": [
      "Train on 60000 samples, validate on 10000 samples\n",
      "Epoch 1/15\n",
      "60000/60000 [==============================] - 15s 251us/step - loss: 0.4816 - acc: 0.8261 - val_loss: 0.3792 - val_acc: 0.8643\n",
      "Epoch 2/15\n",
      "60000/60000 [==============================] - 14s 226us/step - loss: 0.3517 - acc: 0.8713 - val_loss: 0.3379 - val_acc: 0.8765\n",
      "Epoch 3/15\n",
      "60000/60000 [==============================] - 14s 237us/step - loss: 0.3207 - acc: 0.8820 - val_loss: 0.3195 - val_acc: 0.8864\n",
      "Epoch 4/15\n",
      "60000/60000 [==============================] - 14s 227us/step - loss: 0.2964 - acc: 0.8898 - val_loss: 0.3209 - val_acc: 0.8799\n",
      "Epoch 5/15\n",
      "60000/60000 [==============================] - 14s 233us/step - loss: 0.2753 - acc: 0.8975 - val_loss: 0.3138 - val_acc: 0.8872\n",
      "Epoch 6/15\n",
      "60000/60000 [==============================] - 15s 248us/step - loss: 0.2643 - acc: 0.9011 - val_loss: 0.2925 - val_acc: 0.8886\n",
      "Epoch 7/15\n",
      "60000/60000 [==============================] - 16s 261us/step - loss: 0.2445 - acc: 0.9079 - val_loss: 0.2985 - val_acc: 0.8890\n",
      "Epoch 8/15\n",
      "60000/60000 [==============================] - 17s 281us/step - loss: 0.2364 - acc: 0.9100 - val_loss: 0.2945 - val_acc: 0.8920\n",
      "Epoch 9/15\n",
      "60000/60000 [==============================] - 18s 294us/step - loss: 0.2261 - acc: 0.9145 - val_loss: 0.2912 - val_acc: 0.8960\n",
      "Epoch 10/15\n",
      "60000/60000 [==============================] - 15s 242us/step - loss: 0.2154 - acc: 0.9176 - val_loss: 0.2910 - val_acc: 0.8959\n",
      "Epoch 11/15\n",
      "60000/60000 [==============================] - 15s 249us/step - loss: 0.2059 - acc: 0.9216 - val_loss: 0.2962 - val_acc: 0.8966\n",
      "Epoch 12/15\n",
      "60000/60000 [==============================] - 15s 242us/step - loss: 0.1963 - acc: 0.9256 - val_loss: 0.2976 - val_acc: 0.8968\n",
      "Epoch 13/15\n",
      "60000/60000 [==============================] - 15s 255us/step - loss: 0.1909 - acc: 0.9277 - val_loss: 0.3107 - val_acc: 0.8899\n",
      "Epoch 14/15\n",
      "60000/60000 [==============================] - 15s 244us/step - loss: 0.1842 - acc: 0.9292 - val_loss: 0.3201 - val_acc: 0.8924\n",
      "Epoch 15/15\n",
      "60000/60000 [==============================] - 14s 239us/step - loss: 0.1754 - acc: 0.9330 - val_loss: 0.3179 - val_acc: 0.8928\n"
     ]
    }
   ],
   "source": [
    "# Training the model\n",
    "batch_size = 150\n",
    "epochs = 15\n",
    "history = model.fit(X_train, y_train,\n",
    "                    batch_size=batch_size,\n",
    "                    epochs=epochs,\n",
    "                    verbose=1,\n",
    "validation_data=(X_test, y_test))"
   ]
  },
  {
   "cell_type": "code",
   "execution_count": 25,
   "metadata": {},
   "outputs": [
    {
     "name": "stdout",
     "output_type": "stream",
     "text": [
      "Test loss: 0.317929696119\n",
      "Test accuracy: 0.8928\n"
     ]
    }
   ],
   "source": [
    "# Evaluate the model \n",
    "score = model.evaluate(X_test, y_test, verbose=0)\n",
    "print('Test loss:', score[0])\n",
    "print('Test accuracy:', score[1])"
   ]
  },
  {
   "cell_type": "code",
   "execution_count": 28,
   "metadata": {},
   "outputs": [
    {
     "name": "stdout",
     "output_type": "stream",
     "text": [
      "[0 1 2 ..., 8 8 1]\n"
     ]
    }
   ],
   "source": [
    "# Make predictions about the classes\n",
    "predictions = model.predict_classes(X_test,batch_size=150)  \n",
    "print(predictions)\n"
   ]
  },
  {
   "cell_type": "code",
   "execution_count": 30,
   "metadata": {},
   "outputs": [
    {
     "name": "stdout",
     "output_type": "stream",
     "text": [
      "_________________________________________________________________\n",
      "Layer (type)                 Output Shape              Param #   \n",
      "=================================================================\n",
      "dense_1 (Dense)              (None, 512)               401920    \n",
      "_________________________________________________________________\n",
      "dense_2 (Dense)              (None, 512)               262656    \n",
      "_________________________________________________________________\n",
      "dense_3 (Dense)              (None, 10)                5130      \n",
      "=================================================================\n",
      "Total params: 669,706\n",
      "Trainable params: 669,706\n",
      "Non-trainable params: 0\n",
      "_________________________________________________________________\n",
      "None\n"
     ]
    }
   ],
   "source": [
    "# Data Model visualization\n",
    "print(model.summary())"
   ]
  },
  {
   "cell_type": "code",
   "execution_count": null,
   "metadata": {
    "collapsed": true
   },
   "outputs": [],
   "source": []
  }
 ],
 "metadata": {
  "kernelspec": {
   "display_name": "Python 3",
   "language": "python",
   "name": "python3"
  },
  "language_info": {
   "codemirror_mode": {
    "name": "ipython",
    "version": 3
   },
   "file_extension": ".py",
   "mimetype": "text/x-python",
   "name": "python",
   "nbconvert_exporter": "python",
   "pygments_lexer": "ipython3",
   "version": "3.6.3"
  }
 },
 "nbformat": 4,
 "nbformat_minor": 2
}
