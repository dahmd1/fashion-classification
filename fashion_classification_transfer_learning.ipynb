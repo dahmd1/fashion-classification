{
 "cells": [
  {
   "cell_type": "code",
   "execution_count": 1,
   "metadata": {},
   "outputs": [
    {
     "name": "stderr",
     "output_type": "stream",
     "text": [
      "Using TensorFlow backend.\n"
     ]
    }
   ],
   "source": [
    "import keras\n",
    "import numpy as np\n",
    "import pandas as pd\n",
    "import matplotlib.pyplot as plt\n",
    "from keras.models import Sequential\n",
    "from keras.layers import Dropout,Dense,Flatten\n",
    "from keras.layers.convolutional import Conv2D,MaxPooling2D\n",
    "from keras.utils import to_categorical\n",
    "from sklearn.model_selection import train_test_split\n",
    "#from keras.wrappers.scikit_learn import KerasClassifier\n",
    "#from keras.preprocessing.image import ImageDataGenerator\n",
    "from keras.layers.normalization import BatchNormalization\n",
    "from keras.applications.vgg16 import VGG16\n"
   ]
  },
  {
   "cell_type": "code",
   "execution_count": 2,
   "metadata": {
    "collapsed": true
   },
   "outputs": [],
   "source": [
    "# fix random seed for reproducibility\n",
    "seed = 7\n",
    "np.random.seed(seed)"
   ]
  },
  {
   "cell_type": "code",
   "execution_count": 3,
   "metadata": {
    "collapsed": true
   },
   "outputs": [],
   "source": [
    "#load the data\n",
    "\n",
    "training_set = pd.read_csv('fashion-mnist_train.csv')\n",
    "testing_set = pd.read_csv('fashion-mnist_test.csv')\n",
    "\n"
   ]
  },
  {
   "cell_type": "code",
   "execution_count": 4,
   "metadata": {
    "collapsed": true
   },
   "outputs": [],
   "source": [
    "#Preprocess the data \n",
    "# Reshape the given csv into the original images\n",
    "\n",
    "\n",
    "# pixels values for each image\n",
    "X_train = np.array(training_set.iloc[:,1:])\n",
    "X_test = np.array(testing_set.iloc[:,1:])\n",
    "\n",
    "X_train = X_train.reshape(X_train.shape[0],28,28,1).astype('float32')\n",
    "X_test = X_test.reshape(X_test.shape[0],28,28,1).astype('float32')\n",
    "\n",
    "X_train = X_train/255\n",
    "X_test = X_test/255\n",
    "\n",
    "#label for each image\n",
    "target = training_set.iloc[:,0]\n",
    "y_train = to_categorical(np.array(training_set.iloc[:,0])) \n",
    "y_test = to_categorical(np.array(testing_set.iloc[:,0]))"
   ]
  },
  {
   "cell_type": "code",
   "execution_count": null,
   "metadata": {},
   "outputs": [
    {
     "name": "stderr",
     "output_type": "stream",
     "text": [
      "C:\\Users\\Dalila\\Anaconda3\\lib\\site-packages\\skimage\\transform\\_warps.py:84: UserWarning: The default mode, 'constant', will be changed to 'reflect' in skimage 0.15.\n",
      "  warn(\"The default mode, 'constant', will be changed to 'reflect' in \"\n"
     ]
    }
   ],
   "source": [
    "# Prepare data for transfer learning\n",
    "import skimage\n",
    "from skimage.transform import resize\n",
    "#X_train = np.array([misc.imresize(x, (48,48)).astype(float) for x in np.nditer(X_train)]).\n",
    "X_train_bis = np.zeros((X_train.shape[0],48,48,1))\n",
    "#X_train_bis = []\n",
    "#for x in np.nditer(X_train) :\n",
    "    #X_train_bis.append(np.array(skimage.transform.resize(x, (48,48)).astype(float)) )\n",
    "\n",
    "for x in X_train: \n",
    "    im = skimage.transform.resize(x, (48,48))\n",
    "    np.append(X_train_bis,im)\n"
   ]
  },
  {
   "cell_type": "code",
   "execution_count": null,
   "metadata": {
    "collapsed": true
   },
   "outputs": [],
   "source": [
    "# Building a cnn model based on VGG model -> Transfer learning\n",
    "\n",
    "from keras import backend as K\n",
    "from keras.layers import Lambda, Input\n",
    "from keras.models import Model\n",
    "\n",
    "                    \n",
    "number_of_classes = y_test.shape[1]\n",
    "input_image = Input(shape=(48,48))\n",
    "inputs = Lambda(lambda x: K.repeat_elements(K.expand_dims(x,3),3,3))(input_image)\n",
    "vgg = VGG16(weights = \"imagenet\", include_top=False, input_tensor = inputs,pooling='max', classes=number_of_classes)\n",
    "#vgg.summary()\n",
    "\n",
    "for layer in vgg.layers[:17]:\n",
    "    layer.trainable = False\n",
    "\n",
    "x = vgg.output\n",
    "#x = Flatten()(x)\n",
    "x = Dense(1024, activation=\"relu\")(x)\n",
    "x = Dropout(0.5)(x)\n",
    "x = Dense(1024, activation=\"relu\")(x)\n",
    "predictions = Dense(number_of_classes, activation=\"softmax\")(x)\n",
    "\n",
    "# creating the final model \n",
    "final_model = Model(inputs = vgg.input, outputs = predictions)\n"
   ]
  },
  {
   "cell_type": "code",
   "execution_count": null,
   "metadata": {
    "collapsed": true
   },
   "outputs": [],
   "source": [
    "# Displaying the final model\n",
    "final_model.summary()"
   ]
  },
  {
   "cell_type": "code",
   "execution_count": null,
   "metadata": {
    "collapsed": true
   },
   "outputs": [],
   "source": [
    "# Training the model\n",
    "batch_size = 150\n",
    "epochs = 5\n",
    "#model = create_model()\n",
    "final_model.compile(optimizer='adam',loss='categorical_crossentropy',metrics=['accuracy'])\n",
    "history = final_model.fit(X_train_bis, y_train,\n",
    "                    batch_size=batch_size,\n",
    "                    epochs=epochs,\n",
    "                    verbose=1,\n",
    "validation_data=(X_test, y_test))"
   ]
  },
  {
   "cell_type": "code",
   "execution_count": 22,
   "metadata": {},
   "outputs": [
    {
     "name": "stdout",
     "output_type": "stream",
     "text": [
      "Test loss: 0.226422051327\n",
      "Test accuracy: 0.925\n"
     ]
    }
   ],
   "source": [
    "# Evaluate the model \n",
    "score = final_model.evaluate(X_test, y_test, verbose=0)\n",
    "print('Test loss:', score[0])\n",
    "print('Test accuracy:', score[1])\n"
   ]
  },
  {
   "cell_type": "code",
   "execution_count": 23,
   "metadata": {
    "collapsed": true
   },
   "outputs": [],
   "source": [
    "# Make predictions about the classes\n",
    "predictions = model.predict_classes(X_test,batch_size=150)  \n"
   ]
  },
  {
   "cell_type": "code",
   "execution_count": 10,
   "metadata": {},
   "outputs": [
    {
     "name": "stdout",
     "output_type": "stream",
     "text": [
      "Saved file: cnn_classification4.csv\n"
     ]
    }
   ],
   "source": [
    "# Save the classification\n",
    "\n",
    "filename = 'cnn_classification4.csv';\n",
    "PictureID = list(range(1,len(predictions)+1))\n",
    "submission = pd.DataFrame({'Clothe_category':predictions })\n",
    "submission.to_csv(filename,header = True, index = False)\n",
    "print('Saved file: ' + filename)"
   ]
  },
  {
   "cell_type": "code",
   "execution_count": 24,
   "metadata": {},
   "outputs": [
    {
     "name": "stdout",
     "output_type": "stream",
     "text": [
      "_________________________________________________________________\n",
      "Layer (type)                 Output Shape              Param #   \n",
      "=================================================================\n",
      "conv2d_7 (Conv2D)            (None, 24, 24, 32)        832       \n",
      "_________________________________________________________________\n",
      "conv2d_8 (Conv2D)            (None, 20, 20, 32)        25632     \n",
      "_________________________________________________________________\n",
      "batch_normalization_4 (Batch (None, 20, 20, 32)        128       \n",
      "_________________________________________________________________\n",
      "max_pooling2d_3 (MaxPooling2 (None, 10, 10, 32)        0         \n",
      "_________________________________________________________________\n",
      "dropout_3 (Dropout)          (None, 10, 10, 32)        0         \n",
      "_________________________________________________________________\n",
      "conv2d_9 (Conv2D)            (None, 6, 6, 64)          51264     \n",
      "_________________________________________________________________\n",
      "conv2d_10 (Conv2D)           (None, 2, 2, 64)          102464    \n",
      "_________________________________________________________________\n",
      "batch_normalization_5 (Batch (None, 2, 2, 64)          256       \n",
      "_________________________________________________________________\n",
      "max_pooling2d_4 (MaxPooling2 (None, 1, 1, 64)          0         \n",
      "_________________________________________________________________\n",
      "dropout_4 (Dropout)          (None, 1, 1, 64)          0         \n",
      "_________________________________________________________________\n",
      "flatten_2 (Flatten)          (None, 64)                0         \n",
      "_________________________________________________________________\n",
      "dense_3 (Dense)              (None, 128)               8320      \n",
      "_________________________________________________________________\n",
      "batch_normalization_6 (Batch (None, 128)               512       \n",
      "_________________________________________________________________\n",
      "dense_4 (Dense)              (None, 10)                1290      \n",
      "=================================================================\n",
      "Total params: 190,698\n",
      "Trainable params: 190,250\n",
      "Non-trainable params: 448\n",
      "_________________________________________________________________\n",
      "None\n"
     ]
    }
   ],
   "source": [
    "# Data Model visualization\n",
    "print(model.summary())"
   ]
  },
  {
   "cell_type": "code",
   "execution_count": 25,
   "metadata": {},
   "outputs": [
    {
     "data": {
      "image/png": "[encoded data removed]",
      "text/plain": [
       "<matplotlib.figure.Figure at 0x29e8f6c5ef0>"
      ]
     },
     "metadata": {},
     "output_type": "display_data"
    }
   ],
   "source": [
    "# Accuracy visualization\n",
    "training_accuracy = history.history['acc']\n",
    "testing_accuracy = history.history['val_acc']\n",
    "plt.plot(training_accuracy)\n",
    "plt.plot(testing_accuracy)\n",
    "plt.title('Model accuracy')\n",
    "plt.legend(['training set', 'testing set'], loc='upper left')\n",
    "plt.ylabel('accuracy')\n",
    "plt.xlabel('epoch')\n",
    "plt.show()"
   ]
  },
  {
   "cell_type": "code",
   "execution_count": 26,
   "metadata": {},
   "outputs": [
    {
     "data": {
      "image/png": "[encoded data removed]",
      "text/plain": [
       "<matplotlib.figure.Figure at 0x29e84fe6a90>"
      ]
     },
     "metadata": {},
     "output_type": "display_data"
    }
   ],
   "source": [
    "# Loss visualization\n",
    "\n",
    "training_loss = history.history['loss']\n",
    "testing_loss = history.history['val_loss']\n",
    "plt.plot(training_loss)\n",
    "plt.plot(testing_loss)\n",
    "plt.title('Model loss')\n",
    "plt.legend(['training set', 'testing set'], loc='upper left')\n",
    "plt.ylabel('loss')\n",
    "plt.xlabel('epoch')\n",
    "\n",
    "plt.show()\n"
   ]
  },
  {
   "cell_type": "code",
   "execution_count": null,
   "metadata": {
    "collapsed": true
   },
   "outputs": [],
   "source": []
  }
 ],
 "metadata": {
  "kernelspec": {
   "display_name": "Python 3",
   "language": "python",
   "name": "python3"
  },
  "language_info": {
   "codemirror_mode": {
    "name": "ipython",
    "version": 3
   },
   "file_extension": ".py",
   "mimetype": "text/x-python",
   "name": "python",
   "nbconvert_exporter": "python",
   "pygments_lexer": "ipython3",
   "version": "3.6.3"
  }
 },
 "nbformat": 4,
 "nbformat_minor": 2
}
