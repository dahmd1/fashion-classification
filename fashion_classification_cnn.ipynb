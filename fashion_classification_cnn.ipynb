{
 "cells": [
  {
   "cell_type": "code",
   "execution_count": 1,
   "metadata": {},
   "outputs": [
    {
     "name": "stderr",
     "output_type": "stream",
     "text": [
      "Using TensorFlow backend.\n"
     ]
    }
   ],
   "source": [
    "import keras\n",
    "import numpy as np\n",
    "import pandas as pd\n",
    "import matplotlib.pyplot as plt\n",
    "from keras.models import Sequential\n",
    "from keras.layers import Dropout,Dense,Flatten\n",
    "from keras.layers.convolutional import Conv2D,MaxPooling2D\n",
    "from keras.utils import to_categorical\n",
    "from sklearn.model_selection import train_test_split\n",
    "from keras.wrappers.scikit_learn import KerasClassifier\n",
    "from sklearn.model_selection import cross_val_score\n",
    "from sklearn.model_selection import StratifiedKFold\n",
    "from keras.preprocessing.image import ImageDataGenerator\n",
    "\n"
   ]
  },
  {
   "cell_type": "code",
   "execution_count": 2,
   "metadata": {
    "collapsed": true
   },
   "outputs": [],
   "source": [
    "# fix random seed for reproducibility\n",
    "seed = 7\n",
    "np.random.seed(seed)"
   ]
  },
  {
   "cell_type": "code",
   "execution_count": 3,
   "metadata": {
    "collapsed": true
   },
   "outputs": [],
   "source": [
    "#load the data\n",
    "\n",
    "training_set = pd.read_csv('fashion-mnist_train.csv')\n",
    "testing_set = pd.read_csv('fashion-mnist_test.csv')\n",
    "\n"
   ]
  },
  {
   "cell_type": "code",
   "execution_count": 4,
   "metadata": {
    "collapsed": true
   },
   "outputs": [],
   "source": [
    "#Preprocess the data \n",
    "# Reshape the given csv into the original images\n",
    "\n",
    "\n",
    "# pixels values for each image\n",
    "X_train = np.array(training_set.iloc[:,1:])\n",
    "X_test = np.array(testing_set.iloc[:,1:])\n",
    "\n",
    "X_train = X_train.reshape(X_train.shape[0],28,28,1).astype('float32')\n",
    "X_test = X_test.reshape(X_test.shape[0],28,28,1).astype('float32')\n",
    "\n",
    "\n",
    "X_train = X_train/255\n",
    "X_test = X_test/255\n",
    "\n",
    "#label for each image\n",
    "target = training_set.iloc[:,0]\n",
    "y_train = to_categorical(np.array(training_set.iloc[:,0])) \n",
    "y_test = to_categorical(np.array(testing_set.iloc[:,0]))"
   ]
  },
  {
   "cell_type": "code",
   "execution_count": 9,
   "metadata": {},
   "outputs": [
    {
     "data": {
      "image/png": "[encoded data removed]",
      "text/plain": [
       "<matplotlib.figure.Figure at 0x22a29909e80>"
      ]
     },
     "metadata": {},
     "output_type": "display_data"
    }
   ],
   "source": [
    "# Check if the reshaping worked by displaying the 9 first images \n",
    "\n",
    "for i in range(0,9):\n",
    "    plt.subplot(330 + 1 + i)\n",
    "    plt.imshow(np.squeeze(X_train[i]), cmap='gray')\n",
    "plt.show()"
   ]
  },
  {
   "cell_type": "code",
   "execution_count": 5,
   "metadata": {
    "collapsed": true
   },
   "outputs": [],
   "source": [
    "# Building a cnn model\n",
    "shape = (28,28,1)\n",
    "number_of_classes = y_test.shape[1]\n",
    "def create_model():\n",
    "    model = Sequential()\n",
    "    model.add(Conv2D(32,(5,5),activation ='relu',input_shape = shape ))\n",
    "    model.add(Conv2D(32,(5,5),activation ='relu',input_shape = shape ))\n",
    "    model.add(MaxPooling2D(pool_size=(2, 2)))\n",
    "    model.add(Dropout(0.2))\n",
    "    model.add(Conv2D(64,(5,5),activation ='relu' ))\n",
    "    model.add(Conv2D(64,(5,5),activation ='relu' ))\n",
    "    model.add(MaxPooling2D(pool_size=(2, 2)))\n",
    "    model.add(Dropout(0.2))\n",
    "    model.add(Flatten())\n",
    "    model.add(Dense(128, activation='relu'))\n",
    "    model.add(Dense(number_of_classes, activation='softmax'))\n",
    "    model.compile(optimizer='adam',loss='categorical_crossentropy',metrics=['accuracy'])\n",
    "    return model\n"
   ]
  },
  {
   "cell_type": "code",
   "execution_count": 8,
   "metadata": {},
   "outputs": [
    {
     "data": {
      "text/plain": [
       "{'batch_size': 128,\n",
       " 'build_fn': <function __main__.create_model>,\n",
       " 'epochs': 3,\n",
       " 'verbose': 0}"
      ]
     },
     "execution_count": 8,
     "metadata": {},
     "output_type": "execute_result"
    }
   ],
   "source": [
    "# Evaluate the model performance\n",
    "\n",
    "\n",
    "model = KerasClassifier(build_fn = create_model, epochs=3, batch_size=128, verbose=0)\n",
    "model.get_params()\n",
    "#kfold = StratifiedKFold(n_splits=10, shuffle=True, random_state=seed)\n",
    "#results = cross_val_score(model, X_train, target, cv=kfold)\n",
    "#print(results)\n"
   ]
  },
  {
   "cell_type": "code",
   "execution_count": 6,
   "metadata": {},
   "outputs": [
    {
     "name": "stdout",
     "output_type": "stream",
     "text": [
      "Epoch 1/10\n",
      "400/400 [==============================] - 364s 909ms/step - loss: 0.8406 - acc: 0.6772 - val_loss: 0.5336 - val_acc: 0.7866\n",
      "Epoch 2/10\n",
      "400/400 [==============================] - 361s 903ms/step - loss: 0.5823 - acc: 0.7759 - val_loss: 0.4535 - val_acc: 0.8215\n",
      "Epoch 3/10\n",
      "400/400 [==============================] - 365s 913ms/step - loss: 0.5050 - acc: 0.8069 - val_loss: 0.3981 - val_acc: 0.8500\n",
      "Epoch 4/10\n",
      "400/400 [==============================] - 365s 912ms/step - loss: 0.4542 - acc: 0.8285 - val_loss: 0.3392 - val_acc: 0.8731\n",
      "Epoch 5/10\n",
      "400/400 [==============================] - 364s 911ms/step - loss: 0.4152 - acc: 0.8473 - val_loss: 0.3162 - val_acc: 0.8834\n",
      "Epoch 6/10\n",
      "400/400 [==============================] - 363s 909ms/step - loss: 0.3847 - acc: 0.8592 - val_loss: 0.2982 - val_acc: 0.8845\n",
      "Epoch 7/10\n",
      "400/400 [==============================] - 363s 908ms/step - loss: 0.3667 - acc: 0.8652 - val_loss: 0.2979 - val_acc: 0.8865\n",
      "Epoch 8/10\n",
      "400/400 [==============================] - 365s 912ms/step - loss: 0.3500 - acc: 0.8727 - val_loss: 0.2681 - val_acc: 0.8983\n",
      "Epoch 9/10\n",
      "400/400 [==============================] - 362s 904ms/step - loss: 0.3324 - acc: 0.8782 - val_loss: 0.2718 - val_acc: 0.8959\n",
      "Epoch 10/10\n",
      "400/400 [==============================] - 366s 914ms/step - loss: 0.3240 - acc: 0.8816 - val_loss: 0.2788 - val_acc: 0.8911\n"
     ]
    }
   ],
   "source": [
    "#  Training the model with augmented data \n",
    "\n",
    "epochs = 10\n",
    "batch_size = 150\n",
    "\n",
    "datagenerator = ImageDataGenerator(\n",
    "width_shift_range=0.1,\n",
    "height_shift_range=0.1,\n",
    "    \n",
    ")\n",
    "datagenerator.fit(X_train)\n",
    "train_generator = datagenerator.flow(X_train, y_train, batch_size = batch_size)\n",
    "model = create_model()\n",
    "history2 = model.fit_generator(\n",
    "        train_generator,\n",
    "        steps_per_epoch = 400,\n",
    "        epochs = epochs,\n",
    "        validation_data = (X_test,y_test),\n",
    "        )"
   ]
  },
  {
   "cell_type": "code",
   "execution_count": 34,
   "metadata": {},
   "outputs": [
    {
     "name": "stdout",
     "output_type": "stream",
     "text": [
      "Train on 60000 samples, validate on 10000 samples\n",
      "Epoch 1/18\n",
      "60000/60000 [==============================] - 363s 6ms/step - loss: 0.7377 - acc: 0.7215 - val_loss: 0.4679 - val_acc: 0.8292\n",
      "Epoch 2/18\n",
      "60000/60000 [==============================] - 388s 6ms/step - loss: 0.4532 - acc: 0.8342 - val_loss: 0.3484 - val_acc: 0.8742\n",
      "Epoch 3/18\n",
      "60000/60000 [==============================] - 439s 7ms/step - loss: 0.3723 - acc: 0.8659 - val_loss: 0.3154 - val_acc: 0.8842\n",
      "Epoch 4/18\n",
      "60000/60000 [==============================] - 489s 8ms/step - loss: 0.3371 - acc: 0.8781 - val_loss: 0.3041 - val_acc: 0.8882\n",
      "Epoch 5/18\n",
      "60000/60000 [==============================] - 443s 7ms/step - loss: 0.3109 - acc: 0.8874 - val_loss: 0.2716 - val_acc: 0.8962\n",
      "Epoch 6/18\n",
      "60000/60000 [==============================] - 325s 5ms/step - loss: 0.2924 - acc: 0.8933 - val_loss: 0.2630 - val_acc: 0.9001\n",
      "Epoch 7/18\n",
      "60000/60000 [==============================] - 389s 6ms/step - loss: 0.2730 - acc: 0.9016 - val_loss: 0.2646 - val_acc: 0.9032\n",
      "Epoch 8/18\n",
      "60000/60000 [==============================] - 357s 6ms/step - loss: 0.2590 - acc: 0.9066 - val_loss: 0.2516 - val_acc: 0.9047\n",
      "Epoch 9/18\n",
      "60000/60000 [==============================] - 331s 6ms/step - loss: 0.2467 - acc: 0.9100 - val_loss: 0.2414 - val_acc: 0.9086\n",
      "Epoch 10/18\n",
      "60000/60000 [==============================] - 334s 6ms/step - loss: 0.2384 - acc: 0.9110 - val_loss: 0.2244 - val_acc: 0.9177\n",
      "Epoch 11/18\n",
      "60000/60000 [==============================] - 425s 7ms/step - loss: 0.2234 - acc: 0.9187 - val_loss: 0.2393 - val_acc: 0.9144\n",
      "Epoch 12/18\n",
      "60000/60000 [==============================] - 414s 7ms/step - loss: 0.2152 - acc: 0.9193 - val_loss: 0.2240 - val_acc: 0.9155\n",
      "Epoch 13/18\n",
      "60000/60000 [==============================] - 368s 6ms/step - loss: 0.2058 - acc: 0.9235 - val_loss: 0.2321 - val_acc: 0.9167\n",
      "Epoch 14/18\n",
      "60000/60000 [==============================] - 340s 6ms/step - loss: 0.2011 - acc: 0.9255 - val_loss: 0.2333 - val_acc: 0.9163\n",
      "Epoch 15/18\n",
      "60000/60000 [==============================] - 427s 7ms/step - loss: 0.1913 - acc: 0.9303 - val_loss: 0.2256 - val_acc: 0.9179\n",
      "Epoch 16/18\n",
      "60000/60000 [==============================] - 401s 7ms/step - loss: 0.1826 - acc: 0.9321 - val_loss: 0.2284 - val_acc: 0.9195\n",
      "Epoch 17/18\n",
      "60000/60000 [==============================] - 323s 5ms/step - loss: 0.1794 - acc: 0.9333 - val_loss: 0.2211 - val_acc: 0.9209\n",
      "Epoch 18/18\n",
      "60000/60000 [==============================] - 348s 6ms/step - loss: 0.1717 - acc: 0.9365 - val_loss: 0.2259 - val_acc: 0.9204\n"
     ]
    }
   ],
   "source": [
    "# Training the model\n",
    "batch_size = 150\n",
    "epochs = 18\n",
    "model = create_model()\n",
    "history = model.fit(X_train, y_train,\n",
    "                    batch_size=batch_size,\n",
    "                    epochs=epochs,\n",
    "                    verbose=1,\n",
    "validation_data=(X_test, y_test))"
   ]
  },
  {
   "cell_type": "code",
   "execution_count": 7,
   "metadata": {},
   "outputs": [
    {
     "name": "stdout",
     "output_type": "stream",
     "text": [
      "Test loss: 0.278818559885\n",
      "Test accuracy: 0.8911\n"
     ]
    }
   ],
   "source": [
    "# Evaluate the model \n",
    "score = model.evaluate(X_test, y_test, verbose=0)\n",
    "print('Test loss:', score[0])\n",
    "print('Test accuracy:', score[1])\n"
   ]
  },
  {
   "cell_type": "code",
   "execution_count": 8,
   "metadata": {
    "collapsed": true
   },
   "outputs": [],
   "source": [
    "# Make predictions about the classes\n",
    "predictions = model.predict_classes(X_test,batch_size=150)  \n"
   ]
  },
  {
   "cell_type": "code",
   "execution_count": 9,
   "metadata": {},
   "outputs": [
    {
     "name": "stdout",
     "output_type": "stream",
     "text": [
      "Saved file: cnn_classification3.csv\n"
     ]
    }
   ],
   "source": [
    "# Save the classification\n",
    "\n",
    "filename = 'cnn_classification3.csv';\n",
    "PictureID = list(range(1,len(predictions)+1))\n",
    "submission = pd.DataFrame({'Clothe_category':predictions })\n",
    "submission.to_csv(filename,header = True, index = False)\n",
    "print('Saved file: ' + filename)"
   ]
  },
  {
   "cell_type": "code",
   "execution_count": 10,
   "metadata": {},
   "outputs": [
    {
     "name": "stdout",
     "output_type": "stream",
     "text": [
      "_________________________________________________________________\n",
      "Layer (type)                 Output Shape              Param #   \n",
      "=================================================================\n",
      "conv2d_1 (Conv2D)            (None, 24, 24, 32)        832       \n",
      "_________________________________________________________________\n",
      "conv2d_2 (Conv2D)            (None, 20, 20, 32)        25632     \n",
      "_________________________________________________________________\n",
      "max_pooling2d_1 (MaxPooling2 (None, 10, 10, 32)        0         \n",
      "_________________________________________________________________\n",
      "dropout_1 (Dropout)          (None, 10, 10, 32)        0         \n",
      "_________________________________________________________________\n",
      "conv2d_3 (Conv2D)            (None, 6, 6, 64)          51264     \n",
      "_________________________________________________________________\n",
      "conv2d_4 (Conv2D)            (None, 2, 2, 64)          102464    \n",
      "_________________________________________________________________\n",
      "max_pooling2d_2 (MaxPooling2 (None, 1, 1, 64)          0         \n",
      "_________________________________________________________________\n",
      "dropout_2 (Dropout)          (None, 1, 1, 64)          0         \n",
      "_________________________________________________________________\n",
      "flatten_1 (Flatten)          (None, 64)                0         \n",
      "_________________________________________________________________\n",
      "dense_1 (Dense)              (None, 128)               8320      \n",
      "_________________________________________________________________\n",
      "dense_2 (Dense)              (None, 10)                1290      \n",
      "=================================================================\n",
      "Total params: 189,802\n",
      "Trainable params: 189,802\n",
      "Non-trainable params: 0\n",
      "_________________________________________________________________\n",
      "None\n"
     ]
    }
   ],
   "source": [
    "# Data Model visualization\n",
    "print(model.summary())"
   ]
  },
  {
   "cell_type": "code",
   "execution_count": 11,
   "metadata": {},
   "outputs": [
    {
     "data": {
      "image/png": "[encoded data removed]",
      "text/plain": [
       "<matplotlib.figure.Figure at 0x1a2e4b36748>"
      ]
     },
     "metadata": {},
     "output_type": "display_data"
    }
   ],
   "source": [
    "# Accuracy visualization\n",
    "training_accuracy = history2.history['acc']\n",
    "testing_accuracy = history2.history['val_acc']\n",
    "plt.plot(training_accuracy)\n",
    "plt.plot(testing_accuracy)\n",
    "plt.title('Model accuracy')\n",
    "plt.legend(['training set', 'testing set'], loc='upper left')\n",
    "plt.ylabel('accuracy')\n",
    "plt.xlabel('epoch')\n",
    "plt.show()"
   ]
  },
  {
   "cell_type": "code",
   "execution_count": 12,
   "metadata": {},
   "outputs": [
    {
     "data": {
      "image/png": "[encoded data removed]",
      "text/plain": [
       "<matplotlib.figure.Figure at 0x1a29d0d0dd8>"
      ]
     },
     "metadata": {},
     "output_type": "display_data"
    }
   ],
   "source": [
    "# Loss visualization\n",
    "\n",
    "training_loss = history2.history['loss']\n",
    "testing_loss = history2.history['val_loss']\n",
    "plt.plot(training_loss)\n",
    "plt.plot(testing_loss)\n",
    "plt.title('Model loss')\n",
    "plt.legend(['training set', 'testing set'], loc='upper left')\n",
    "plt.ylabel('loss')\n",
    "plt.xlabel('epoch')\n",
    "\n",
    "plt.show()\n"
   ]
  },
  {
   "cell_type": "code",
   "execution_count": null,
   "metadata": {
    "collapsed": true
   },
   "outputs": [],
   "source": []
  }
 ],
 "metadata": {
  "kernelspec": {
   "display_name": "Python 3",
   "language": "python",
   "name": "python3"
  },
  "language_info": {
   "codemirror_mode": {
    "name": "ipython",
    "version": 3
   },
   "file_extension": ".py",
   "mimetype": "text/x-python",
   "name": "python",
   "nbconvert_exporter": "python",
   "pygments_lexer": "ipython3",
   "version": "3.6.3"
  }
 },
 "nbformat": 4,
 "nbformat_minor": 2
}
