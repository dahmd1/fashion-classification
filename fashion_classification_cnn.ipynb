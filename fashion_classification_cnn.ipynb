{
 "cells": [
  {
   "cell_type": "code",
   "execution_count": 19,
   "metadata": {},
   "outputs": [],
   "source": [
    "import keras\n",
    "import numpy as np\n",
    "import pandas as pd\n",
    "import matplotlib.pyplot as plt\n",
    "from keras.models import Sequential\n",
    "from keras.layers import Dropout,Dense,Flatten\n",
    "from keras.layers.convolutional import Conv2D,MaxPooling2D\n",
    "from keras.utils import to_categorical\n",
    "from sklearn.model_selection import train_test_split\n"
   ]
  },
  {
   "cell_type": "code",
   "execution_count": 4,
   "metadata": {
    "collapsed": true
   },
   "outputs": [],
   "source": [
    "# fix random seed for reproducibility\n",
    "seed = 7\n",
    "np.random.seed(seed)"
   ]
  },
  {
   "cell_type": "code",
   "execution_count": 5,
   "metadata": {},
   "outputs": [],
   "source": [
    "#load the data\n",
    "\n",
    "training_set = pd.read_csv('fashion-mnist_train.csv')\n",
    "testing_set = pd.read_csv('fashion-mnist_test.csv')\n",
    "\n"
   ]
  },
  {
   "cell_type": "code",
   "execution_count": 11,
   "metadata": {},
   "outputs": [],
   "source": [
    "#Preprocess the data \n",
    "# Reshape the given csv into the original images\n",
    "\n",
    "\n",
    "# pixels values for each image\n",
    "X_train = np.array(training_set.iloc[:,1:])\n",
    "X_test = np.array(testing_set.iloc[:,1:])\n",
    "\n",
    "X_train = X_train.reshape(X_train.shape[0],28,28,1).astype('float32')\n",
    "X_test = X_test.reshape(X_test.shape[0],28,28,1).astype('float32')\n",
    "\n",
    "\n",
    "\n",
    "X_train = X_train/255\n",
    "X_test = X_test/255\n",
    "\n",
    "#label for each image\n",
    "y_train = to_categorical(np.array(training_set.iloc[:,0])) \n",
    "y_test = to_categorical(np.array(testing_set.iloc[:,0]))"
   ]
  },
  {
   "cell_type": "code",
   "execution_count": 29,
   "metadata": {},
   "outputs": [],
   "source": [
    "# Building a cnn model\n",
    "shape = (28,28,1)\n",
    "number_of_classes = y_test.shape[1]\n",
    "model = Sequential()\n",
    "model.add(Conv2D(32,(5,5),activation ='relu',input_shape = shape ))\n",
    "model.add(MaxPooling2D(pool_size=(2, 2)))\n",
    "model.add(Dropout(0.2))\n",
    "model.add(Flatten())\n",
    "model.add(Dense(128, activation='relu'))\n",
    "model.add(Dense(number_of_classes, activation='softmax'))\n"
   ]
  },
  {
   "cell_type": "code",
   "execution_count": 30,
   "metadata": {},
   "outputs": [],
   "source": [
    "# Compiling the model\n",
    "model.compile(optimizer='adam',loss='categorical_crossentropy',metrics=['accuracy'])"
   ]
  },
  {
   "cell_type": "code",
   "execution_count": 31,
   "metadata": {},
   "outputs": [
    {
     "name": "stdout",
     "output_type": "stream",
     "text": [
      "Train on 60000 samples, validate on 10000 samples\n",
      "Epoch 1/20\n",
      "60000/60000 [==============================] - 74s 1ms/step - loss: 0.4890 - acc: 0.8300 - val_loss: 0.3644 - val_acc: 0.8744\n",
      "Epoch 2/20\n",
      "60000/60000 [==============================] - 73s 1ms/step - loss: 0.3299 - acc: 0.8826 - val_loss: 0.2963 - val_acc: 0.8954\n",
      "Epoch 3/20\n",
      "60000/60000 [==============================] - 73s 1ms/step - loss: 0.2916 - acc: 0.8953 - val_loss: 0.2861 - val_acc: 0.8954\n",
      "Epoch 4/20\n",
      "60000/60000 [==============================] - 74s 1ms/step - loss: 0.2624 - acc: 0.9059 - val_loss: 0.2616 - val_acc: 0.9053\n",
      "Epoch 5/20\n",
      "60000/60000 [==============================] - 72s 1ms/step - loss: 0.2444 - acc: 0.9111 - val_loss: 0.2490 - val_acc: 0.9124\n",
      "Epoch 6/20\n",
      "60000/60000 [==============================] - 72s 1ms/step - loss: 0.2273 - acc: 0.9164 - val_loss: 0.2540 - val_acc: 0.9052\n",
      "Epoch 7/20\n",
      "60000/60000 [==============================] - 71s 1ms/step - loss: 0.2132 - acc: 0.9217 - val_loss: 0.2351 - val_acc: 0.9156\n",
      "Epoch 8/20\n",
      "60000/60000 [==============================] - 72s 1ms/step - loss: 0.1966 - acc: 0.9275 - val_loss: 0.2352 - val_acc: 0.9164\n",
      "Epoch 9/20\n",
      "60000/60000 [==============================] - 947s 16ms/step - loss: 0.1890 - acc: 0.9309 - val_loss: 0.2224 - val_acc: 0.9197\n",
      "Epoch 10/20\n",
      "60000/60000 [==============================] - 60s 1ms/step - loss: 0.1770 - acc: 0.9346 - val_loss: 0.2234 - val_acc: 0.9226\n",
      "Epoch 11/20\n",
      "60000/60000 [==============================] - 70s 1ms/step - loss: 0.1648 - acc: 0.9388 - val_loss: 0.2311 - val_acc: 0.9159\n",
      "Epoch 12/20\n",
      "60000/60000 [==============================] - 77s 1ms/step - loss: 0.1560 - acc: 0.9431 - val_loss: 0.2248 - val_acc: 0.9186\n",
      "Epoch 13/20\n",
      "60000/60000 [==============================] - 75s 1ms/step - loss: 0.1467 - acc: 0.9457 - val_loss: 0.2277 - val_acc: 0.9204\n",
      "Epoch 14/20\n",
      "60000/60000 [==============================] - 73s 1ms/step - loss: 0.1377 - acc: 0.9498 - val_loss: 0.2315 - val_acc: 0.9208\n",
      "Epoch 15/20\n",
      "60000/60000 [==============================] - 74s 1ms/step - loss: 0.1296 - acc: 0.9518 - val_loss: 0.2232 - val_acc: 0.9236\n",
      "Epoch 16/20\n",
      "60000/60000 [==============================] - 72s 1ms/step - loss: 0.1209 - acc: 0.9550 - val_loss: 0.2243 - val_acc: 0.9248\n",
      "Epoch 17/20\n",
      "60000/60000 [==============================] - 72s 1ms/step - loss: 0.1154 - acc: 0.9579 - val_loss: 0.2427 - val_acc: 0.9190\n",
      "Epoch 18/20\n",
      "60000/60000 [==============================] - 72s 1ms/step - loss: 0.1099 - acc: 0.9592 - val_loss: 0.2449 - val_acc: 0.9201\n",
      "Epoch 19/20\n",
      "60000/60000 [==============================] - 75s 1ms/step - loss: 0.1024 - acc: 0.9625 - val_loss: 0.2466 - val_acc: 0.9206\n",
      "Epoch 20/20\n",
      "60000/60000 [==============================] - 77s 1ms/step - loss: 0.0981 - acc: 0.9636 - val_loss: 0.2371 - val_acc: 0.9262\n"
     ]
    }
   ],
   "source": [
    "# Training the model\n",
    "batch_size = 150\n",
    "epochs = 20\n",
    "history = model.fit(X_train, y_train,\n",
    "                    batch_size=batch_size,\n",
    "                    epochs=epochs,\n",
    "                    verbose=1,\n",
    "validation_data=(X_test, y_test))"
   ]
  },
  {
   "cell_type": "code",
   "execution_count": 32,
   "metadata": {},
   "outputs": [
    {
     "name": "stdout",
     "output_type": "stream",
     "text": [
      "Test loss: 0.237071894461\n",
      "Test accuracy: 0.9262\n"
     ]
    }
   ],
   "source": [
    "# Evaluate the model \n",
    "score = model.evaluate(X_test, y_test, verbose=0)\n",
    "print('Test loss:', score[0])\n",
    "print('Test accuracy:', score[1])"
   ]
  },
  {
   "cell_type": "code",
   "execution_count": 33,
   "metadata": {
    "collapsed": true
   },
   "outputs": [],
   "source": [
    "# Make predictions about the classes\n",
    "predictions = model.predict_classes(X_test,batch_size=150)  \n"
   ]
  },
  {
   "cell_type": "code",
   "execution_count": 34,
   "metadata": {},
   "outputs": [
    {
     "name": "stdout",
     "output_type": "stream",
     "text": [
      "Saved file: cnn_classification1.csv\n"
     ]
    }
   ],
   "source": [
    "# Save the classification\n",
    "\n",
    "filename = 'cnn_classification1.csv';\n",
    "PictureID = list(range(1,len(predictions)+1))\n",
    "submission = pd.DataFrame({'Clothe_category':predictions })\n",
    "submission.to_csv(filename,header = True, index = False)\n",
    "print('Saved file: ' + filename)"
   ]
  },
  {
   "cell_type": "code",
   "execution_count": 35,
   "metadata": {},
   "outputs": [
    {
     "name": "stdout",
     "output_type": "stream",
     "text": [
      "_________________________________________________________________\n",
      "Layer (type)                 Output Shape              Param #   \n",
      "=================================================================\n",
      "conv2d_3 (Conv2D)            (None, 24, 24, 32)        832       \n",
      "_________________________________________________________________\n",
      "max_pooling2d_2 (MaxPooling2 (None, 12, 12, 32)        0         \n",
      "_________________________________________________________________\n",
      "dropout_1 (Dropout)          (None, 12, 12, 32)        0         \n",
      "_________________________________________________________________\n",
      "flatten_1 (Flatten)          (None, 4608)              0         \n",
      "_________________________________________________________________\n",
      "dense_1 (Dense)              (None, 128)               589952    \n",
      "_________________________________________________________________\n",
      "dense_2 (Dense)              (None, 10)                1290      \n",
      "=================================================================\n",
      "Total params: 592,074\n",
      "Trainable params: 592,074\n",
      "Non-trainable params: 0\n",
      "_________________________________________________________________\n",
      "None\n"
     ]
    }
   ],
   "source": [
    "# Data Model visualization\n",
    "print(model.summary())"
   ]
  },
  {
   "cell_type": "code",
   "execution_count": 36,
   "metadata": {},
   "outputs": [
    {
     "data": {
      "image/png": "[encoded data removed]",
      "text/plain": [
       "<matplotlib.figure.Figure at 0x1c11cfd4668>"
      ]
     },
     "metadata": {},
     "output_type": "display_data"
    }
   ],
   "source": [
    "# Accuracy visualization\n",
    "training_accuracy = history.history['acc']\n",
    "testing_accuracy = history.history['val_acc']\n",
    "plt.plot(training_accuracy)\n",
    "plt.plot(testing_accuracy)\n",
    "plt.title('Model accuracy')\n",
    "plt.legend(['training set', 'testing set'], loc='upper left')\n",
    "plt.ylabel('accuracy')\n",
    "plt.xlabel('epoch')\n",
    "plt.show()"
   ]
  },
  {
   "cell_type": "code",
   "execution_count": 37,
   "metadata": {},
   "outputs": [
    {
     "data": {
      "image/png": "[encoded data removed]",
      "text/plain": [
       "<matplotlib.figure.Figure at 0x1c11cfba438>"
      ]
     },
     "metadata": {},
     "output_type": "display_data"
    }
   ],
   "source": [
    "# Loss visualization\n",
    "\n",
    "training_loss = history.history['loss']\n",
    "testing_loss = history.history['val_loss']\n",
    "plt.plot(training_loss)\n",
    "plt.plot(testing_loss)\n",
    "plt.title('Model loss')\n",
    "plt.legend(['training set', 'testing set'], loc='upper left')\n",
    "plt.ylabel('loss')\n",
    "plt.xlabel('epoch')\n",
    "\n",
    "plt.show()\n"
   ]
  },
  {
   "cell_type": "code",
   "execution_count": null,
   "metadata": {
    "collapsed": true
   },
   "outputs": [],
   "source": []
  }
 ],
 "metadata": {
  "kernelspec": {
   "display_name": "Python 3",
   "language": "python",
   "name": "python3"
  },
  "language_info": {
   "codemirror_mode": {
    "name": "ipython",
    "version": 3
   },
   "file_extension": ".py",
   "mimetype": "text/x-python",
   "name": "python",
   "nbconvert_exporter": "python",
   "pygments_lexer": "ipython3",
   "version": "3.6.3"
  }
 },
 "nbformat": 4,
 "nbformat_minor": 2
}
