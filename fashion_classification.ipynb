{
 "cells": [
  {
   "cell_type": "code",
   "execution_count": 2,
   "metadata": {},
   "outputs": [
    {
     "name": "stderr",
     "output_type": "stream",
     "text": [
      "Using TensorFlow backend.\n"
     ]
    }
   ],
   "source": [
    "import keras\n",
    "import numpy as np\n",
    "import pandas as pd\n",
    "import matplotlib.pyplot as plt\n",
    "from keras.models import Sequential\n",
    "from keras.layers import Dropout\n",
    "from keras.layers import Dense\n",
    "from keras.utils import to_categorical\n",
    "from sklearn.model_selection import train_test_split\n"
   ]
  },
  {
   "cell_type": "code",
   "execution_count": 3,
   "metadata": {
    "collapsed": true
   },
   "outputs": [],
   "source": [
    "# fix random seed for reproducibility\n",
    "seed = 7\n",
    "np.random.seed(seed)"
   ]
  },
  {
   "cell_type": "code",
   "execution_count": 4,
   "metadata": {
    "collapsed": true
   },
   "outputs": [],
   "source": [
    "#load the data\n",
    "\n",
    "training_set = pd.read_csv('fashion-mnist_train.csv')\n",
    "testing_set = pd.read_csv('fashion-mnist_test.csv')\n",
    "\n"
   ]
  },
  {
   "cell_type": "code",
   "execution_count": 5,
   "metadata": {
    "collapsed": true
   },
   "outputs": [],
   "source": [
    "#Preprocess the data \n",
    "# pixels values for each image\n",
    "X_train = np.array(training_set.iloc[:,1:])\n",
    "X_test = np.array(testing_set.iloc[:,1:])\n",
    "X_train = X_train/255\n",
    "X_test = X_test/255\n",
    "\n",
    "#label for each image\n",
    "y_train = to_categorical(np.array(training_set.iloc[:,0])) \n",
    "y_test = to_categorical(np.array(testing_set.iloc[:,0]))"
   ]
  },
  {
   "cell_type": "code",
   "execution_count": 6,
   "metadata": {
    "collapsed": true
   },
   "outputs": [],
   "source": [
    "# Building a first baseline model\n",
    "pixel_numbers = X_train.shape[1]\n",
    "number_of_classes = y_test.shape[1]\n",
    "model = Sequential()\n",
    "model.add(Dropout(0.2, input_shape=(pixel_numbers,)))\n",
    "model.add(Dense(512,activation='relu'))\n",
    "model.add(Dropout(0.2))\n",
    "model.add(Dense(512, activation='relu'))\n",
    "model.add(Dropout(0.2))\n",
    "model.add(Dense(number_of_classes, activation='softmax'))\n"
   ]
  },
  {
   "cell_type": "code",
   "execution_count": 7,
   "metadata": {
    "collapsed": true
   },
   "outputs": [],
   "source": [
    "# Compiling the model\n",
    "model.compile(optimizer='adam',loss='categorical_crossentropy',metrics=['accuracy'])"
   ]
  },
  {
   "cell_type": "code",
   "execution_count": 8,
   "metadata": {},
   "outputs": [
    {
     "name": "stdout",
     "output_type": "stream",
     "text": [
      "Train on 60000 samples, validate on 10000 samples\n",
      "Epoch 1/20\n",
      "60000/60000 [==============================] - 16s 275us/step - loss: 0.5689 - acc: 0.7936 - val_loss: 0.4277 - val_acc: 0.8443\n",
      "Epoch 2/20\n",
      "60000/60000 [==============================] - 16s 264us/step - loss: 0.4256 - acc: 0.8442 - val_loss: 0.3640 - val_acc: 0.8645\n",
      "Epoch 3/20\n",
      "60000/60000 [==============================] - 16s 261us/step - loss: 0.3931 - acc: 0.8553 - val_loss: 0.3583 - val_acc: 0.8643\n",
      "Epoch 4/20\n",
      "60000/60000 [==============================] - 16s 270us/step - loss: 0.3712 - acc: 0.8625 - val_loss: 0.3484 - val_acc: 0.8708\n",
      "Epoch 5/20\n",
      "60000/60000 [==============================] - 17s 278us/step - loss: 0.3558 - acc: 0.8673 - val_loss: 0.3334 - val_acc: 0.8736\n",
      "Epoch 6/20\n",
      "60000/60000 [==============================] - 18s 303us/step - loss: 0.3476 - acc: 0.8707 - val_loss: 0.3274 - val_acc: 0.8717\n",
      "Epoch 7/20\n",
      "60000/60000 [==============================] - 21s 343us/step - loss: 0.3341 - acc: 0.8745 - val_loss: 0.3144 - val_acc: 0.8845\n",
      "Epoch 8/20\n",
      "60000/60000 [==============================] - 21s 354us/step - loss: 0.3264 - acc: 0.8783 - val_loss: 0.2930 - val_acc: 0.8897\n",
      "Epoch 9/20\n",
      "60000/60000 [==============================] - 21s 357us/step - loss: 0.3201 - acc: 0.8806 - val_loss: 0.2982 - val_acc: 0.8889\n",
      "Epoch 10/20\n",
      "60000/60000 [==============================] - 25s 408us/step - loss: 0.3129 - acc: 0.8833 - val_loss: 0.2906 - val_acc: 0.8918\n",
      "Epoch 11/20\n",
      "60000/60000 [==============================] - 30s 494us/step - loss: 0.3073 - acc: 0.8841 - val_loss: 0.3069 - val_acc: 0.8824\n",
      "Epoch 12/20\n",
      "60000/60000 [==============================] - 27s 444us/step - loss: 0.2998 - acc: 0.8857 - val_loss: 0.3122 - val_acc: 0.8820\n",
      "Epoch 13/20\n",
      "60000/60000 [==============================] - 28s 472us/step - loss: 0.2951 - acc: 0.8901 - val_loss: 0.2948 - val_acc: 0.8873\n",
      "Epoch 14/20\n",
      "60000/60000 [==============================] - 25s 421us/step - loss: 0.2924 - acc: 0.8904 - val_loss: 0.2794 - val_acc: 0.8951\n",
      "Epoch 15/20\n",
      "60000/60000 [==============================] - 26s 441us/step - loss: 0.2856 - acc: 0.8917 - val_loss: 0.2856 - val_acc: 0.8935\n",
      "Epoch 16/20\n",
      "60000/60000 [==============================] - 22s 374us/step - loss: 0.2855 - acc: 0.8908 - val_loss: 0.2951 - val_acc: 0.8882\n",
      "Epoch 17/20\n",
      "60000/60000 [==============================] - 21s 353us/step - loss: 0.2769 - acc: 0.8954 - val_loss: 0.2742 - val_acc: 0.8972\n",
      "Epoch 18/20\n",
      "60000/60000 [==============================] - 21s 356us/step - loss: 0.2750 - acc: 0.8952 - val_loss: 0.2750 - val_acc: 0.8950\n",
      "Epoch 19/20\n",
      "60000/60000 [==============================] - 22s 372us/step - loss: 0.2723 - acc: 0.8970 - val_loss: 0.2834 - val_acc: 0.8934\n",
      "Epoch 20/20\n",
      "60000/60000 [==============================] - 29s 481us/step - loss: 0.2670 - acc: 0.8978 - val_loss: 0.2815 - val_acc: 0.8988\n"
     ]
    }
   ],
   "source": [
    "# Training the model\n",
    "batch_size = 150\n",
    "epochs = 20\n",
    "history = model.fit(X_train, y_train,\n",
    "                    batch_size=batch_size,\n",
    "                    epochs=epochs,\n",
    "                    verbose=1,\n",
    "validation_data=(X_test, y_test))"
   ]
  },
  {
   "cell_type": "code",
   "execution_count": 9,
   "metadata": {},
   "outputs": [
    {
     "name": "stdout",
     "output_type": "stream",
     "text": [
      "Test loss: 0.281452508602\n",
      "Test accuracy: 0.8988\n"
     ]
    }
   ],
   "source": [
    "# Evaluate the model \n",
    "score = model.evaluate(X_test, y_test, verbose=0)\n",
    "print('Test loss:', score[0])\n",
    "print('Test accuracy:', score[1])"
   ]
  },
  {
   "cell_type": "code",
   "execution_count": 10,
   "metadata": {
    "collapsed": true
   },
   "outputs": [],
   "source": [
    "# Make predictions about the classes\n",
    "predictions = model.predict_classes(X_test,batch_size=150)  \n"
   ]
  },
  {
   "cell_type": "code",
   "execution_count": 11,
   "metadata": {},
   "outputs": [
    {
     "name": "stdout",
     "output_type": "stream",
     "text": [
      "_________________________________________________________________\n",
      "Layer (type)                 Output Shape              Param #   \n",
      "=================================================================\n",
      "dropout_1 (Dropout)          (None, 784)               0         \n",
      "_________________________________________________________________\n",
      "dense_1 (Dense)              (None, 512)               401920    \n",
      "_________________________________________________________________\n",
      "dropout_2 (Dropout)          (None, 512)               0         \n",
      "_________________________________________________________________\n",
      "dense_2 (Dense)              (None, 512)               262656    \n",
      "_________________________________________________________________\n",
      "dropout_3 (Dropout)          (None, 512)               0         \n",
      "_________________________________________________________________\n",
      "dense_3 (Dense)              (None, 10)                5130      \n",
      "=================================================================\n",
      "Total params: 669,706\n",
      "Trainable params: 669,706\n",
      "Non-trainable params: 0\n",
      "_________________________________________________________________\n",
      "None\n"
     ]
    }
   ],
   "source": [
    "# Data Model visualization\n",
    "print(model.summary())"
   ]
  },
  {
   "cell_type": "code",
   "execution_count": 12,
   "metadata": {},
   "outputs": [
    {
     "data": {
      "image/png": "[encoded data removed]",
      "text/plain": [
       "<matplotlib.figure.Figure at 0x27cb595f550>"
      ]
     },
     "metadata": {},
     "output_type": "display_data"
    }
   ],
   "source": [
    "# Accuracy visualization\n",
    "training_accuracy = history.history['acc']\n",
    "testing_accuracy = history.history['val_acc']\n",
    "plt.plot(training_accuracy)\n",
    "plt.plot(testing_accuracy)\n",
    "plt.title('Model accuracy')\n",
    "plt.legend(['training set', 'testing set'], loc='upper left')\n",
    "plt.ylabel('accuracy')\n",
    "plt.xlabel('epoch')\n",
    "plt.show()"
   ]
  },
  {
   "cell_type": "code",
   "execution_count": 13,
   "metadata": {},
   "outputs": [
    {
     "data": {
      "image/png": "[encoded data removed]",
      "text/plain": [
       "<matplotlib.figure.Figure at 0x27cb5a0f438>"
      ]
     },
     "metadata": {},
     "output_type": "display_data"
    }
   ],
   "source": [
    "# Loss visualization\n",
    "\n",
    "training_loss = history.history['loss']\n",
    "testing_loss = history.history['val_loss']\n",
    "plt.plot(training_loss)\n",
    "plt.plot(testing_loss)\n",
    "plt.title('Model loss')\n",
    "plt.legend(['training set', 'testing set'], loc='upper left')\n",
    "plt.ylabel('loss')\n",
    "plt.xlabel('epoch')\n",
    "\n",
    "plt.show()\n"
   ]
  },
  {
   "cell_type": "code",
   "execution_count": null,
   "metadata": {
    "collapsed": true
   },
   "outputs": [],
   "source": []
  }
 ],
 "metadata": {
  "kernelspec": {
   "display_name": "Python 3",
   "language": "python",
   "name": "python3"
  },
  "language_info": {
   "codemirror_mode": {
    "name": "ipython",
    "version": 3
   },
   "file_extension": ".py",
   "mimetype": "text/x-python",
   "name": "python",
   "nbconvert_exporter": "python",
   "pygments_lexer": "ipython3",
   "version": "3.6.3"
  }
 },
 "nbformat": 4,
 "nbformat_minor": 2
}
